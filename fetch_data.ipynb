{
 "cells": [
  {
   "metadata": {
    "ExecuteTime": {
     "end_time": "2024-12-14T15:42:08.033882900Z",
     "start_time": "2024-12-14T15:42:03.721725900Z"
    }
   },
   "cell_type": "code",
   "source": [
    "import json\n",
    "import pandas as pd\n",
    "from sseclient import SSEClient as EventSource\n",
    "from sklearn.model_selection import train_test_split"
   ],
   "id": "f7bff72cd7778cd5",
   "outputs": [],
   "execution_count": 1
  },
  {
   "metadata": {},
   "cell_type": "code",
   "outputs": [],
   "execution_count": null,
   "source": [
    "url = 'https://stream.wikimedia.org/v2/stream/recentchange'\n",
    "sampling_rate = 20\n",
    "counter = 0\n",
    "N = 40_000\n",
    "with open(\"data/raw_edits.json\", \"w\") as file:\n",
    "    for event in EventSource(url):\n",
    "        if not event.event == 'message':\n",
    "            continue\n",
    "        try:\n",
    "            change = json.loads(event.data)\n",
    "        except (ValueError, KeyError):\n",
    "            continue\n",
    "\n",
    "        # Hashing by username to make sure all edits of the same user are taken\n",
    "        user = change.get(\"user\")\n",
    "        if user and hash(user) % 100 < sampling_rate:\n",
    "            json.dump(change, file)\n",
    "            file.write('\\n')  # Write each change on a new line\n",
    "            \n",
    "            counter += 1\n",
    "            if counter % 1000 == 0:\n",
    "                print(f\"Processed {counter}/40000 records...\")\n",
    "                \n",
    "            if counter > N:\n",
    "                break"
   ],
   "id": "19a1efe2e01b96e8"
  },
  {
   "metadata": {
    "ExecuteTime": {
     "end_time": "2024-12-14T16:53:51.048523300Z",
     "start_time": "2024-12-14T16:53:50.160239200Z"
    }
   },
   "cell_type": "code",
   "source": [
    "raw_df = pd.read_json(\"data/raw_edits.json\", lines=True)\n",
    "raw_df.head()"
   ],
   "id": "27750fc8a209cbde",
   "outputs": [
    {
     "data": {
      "text/plain": "                         $schema  \\\n0  /mediawiki/recentchange/1.0.0   \n1  /mediawiki/recentchange/1.0.0   \n2  /mediawiki/recentchange/1.0.0   \n3  /mediawiki/recentchange/1.0.0   \n4  /mediawiki/recentchange/1.0.0   \n\n                                                meta            id  type  \\\n0  {'uri': 'https://ru.wikiquote.org/wiki/%D0%A3%...  2.393453e+07   log   \n1  {'uri': 'https://commons.wikimedia.org/wiki/Fi...  2.683954e+09   log   \n2  {'uri': 'https://en.wikipedia.org/wiki/2025_Co...  1.851732e+09  edit   \n3  {'uri': 'https://ru.wikiquote.org/wiki/%D0%A3%...  2.393453e+07   log   \n4  {'uri': 'https://commons.wikimedia.org/wiki/Fi...  2.683954e+09  edit   \n\n   namespace                                              title  \\\n0          2                           Участник:209.127.107.218   \n1          6  File:Bürgermeisterwahl 2023 Malchow - René Put...   \n2          0                           2025 County Championship   \n3          2                            Участник:209.127.107.89   \n4          6  File:Minster School ruins - geograph.org.uk - ...   \n\n                                           title_url  \\\n0  https://ru.wikiquote.org/wiki/%D0%A3%D1%87%D0%...   \n1  https://commons.wikimedia.org/wiki/File:B%C3%B...   \n2  https://en.wikipedia.org/wiki/2025_County_Cham...   \n3  https://ru.wikiquote.org/wiki/%D0%A3%D1%87%D0%...   \n4  https://commons.wikimedia.org/wiki/File:Minste...   \n\n                                             comment           timestamp  \\\n0            {{Blocked proxy}} <!-- 8AFD7D5E0F79 --> 2024-12-14 07:55:41   \n1  per [[Commons:Deletion requests/File:Bürgermei... 2024-12-14 07:55:39   \n2  [[WP:AES|←]]Removed redirect to [[County Champ... 2024-12-14 07:55:35   \n3            {{Blocked proxy}} <!-- E0471734C1B0 --> 2024-12-14 07:55:42   \n4  /* wbeditentity-update-languages-and-other-sho... 2024-12-14 07:55:41   \n\n             user  ...                     server_url            server_name  \\\n0         QBA-bot  ...       https://ru.wikiquote.org       ru.wikiquote.org   \n1             Krd  ...  https://commons.wikimedia.org  commons.wikimedia.org   \n2    FieldOfWheat  ...       https://en.wikipedia.org       en.wikipedia.org   \n3         QBA-bot  ...       https://ru.wikiquote.org       ru.wikiquote.org   \n4  BotMultichillT  ...  https://commons.wikimedia.org  commons.wikimedia.org   \n\n  server_script_path         wiki  \\\n0                 /w  ruwikiquote   \n1                 /w  commonswiki   \n2                 /w       enwiki   \n3                 /w  ruwikiquote   \n4                 /w  commonswiki   \n\n                                       parsedcomment  \\\n0      {{Blocked proxy}} &lt;!-- 8AFD7D5E0F79 --&gt;   \n1  per <a href=\"/wiki/Commons:Deletion_requests/F...   \n2  <a href=\"/wiki/Wikipedia:AES\" class=\"mw-redire...   \n3      {{Blocked proxy}} &lt;!-- E0471734C1B0 --&gt;   \n4  ‎<span dir=\"auto\"><span class=\"autocomment\">Ch...   \n\n                                          notify_url minor  \\\n0                                                NaN   NaN   \n1                                                NaN   NaN   \n2  https://en.wikipedia.org/w/index.php?diff=1263...   0.0   \n3                                                NaN   NaN   \n4  https://commons.wikimedia.org/w/index.php?diff...   0.0   \n\n                       length                                revision  \\\n0                         NaN                                     NaN   \n1                         NaN                                     NaN   \n2   {'old': 32, 'new': 53579}  {'old': 1261093459, 'new': 1263028105}   \n3                         NaN                                     NaN   \n4  {'old': 6842, 'new': 9564}    {'old': 939308420, 'new': 970056491}   \n\n  patrolled  \n0       NaN  \n1       NaN  \n2       NaN  \n3       NaN  \n4       1.0  \n\n[5 rows x 26 columns]",
      "text/html": "<div>\n<style scoped>\n    .dataframe tbody tr th:only-of-type {\n        vertical-align: middle;\n    }\n\n    .dataframe tbody tr th {\n        vertical-align: top;\n    }\n\n    .dataframe thead th {\n        text-align: right;\n    }\n</style>\n<table border=\"1\" class=\"dataframe\">\n  <thead>\n    <tr style=\"text-align: right;\">\n      <th></th>\n      <th>$schema</th>\n      <th>meta</th>\n      <th>id</th>\n      <th>type</th>\n      <th>namespace</th>\n      <th>title</th>\n      <th>title_url</th>\n      <th>comment</th>\n      <th>timestamp</th>\n      <th>user</th>\n      <th>...</th>\n      <th>server_url</th>\n      <th>server_name</th>\n      <th>server_script_path</th>\n      <th>wiki</th>\n      <th>parsedcomment</th>\n      <th>notify_url</th>\n      <th>minor</th>\n      <th>length</th>\n      <th>revision</th>\n      <th>patrolled</th>\n    </tr>\n  </thead>\n  <tbody>\n    <tr>\n      <th>0</th>\n      <td>/mediawiki/recentchange/1.0.0</td>\n      <td>{'uri': 'https://ru.wikiquote.org/wiki/%D0%A3%...</td>\n      <td>2.393453e+07</td>\n      <td>log</td>\n      <td>2</td>\n      <td>Участник:209.127.107.218</td>\n      <td>https://ru.wikiquote.org/wiki/%D0%A3%D1%87%D0%...</td>\n      <td>{{Blocked proxy}} &lt;!-- 8AFD7D5E0F79 --&gt;</td>\n      <td>2024-12-14 07:55:41</td>\n      <td>QBA-bot</td>\n      <td>...</td>\n      <td>https://ru.wikiquote.org</td>\n      <td>ru.wikiquote.org</td>\n      <td>/w</td>\n      <td>ruwikiquote</td>\n      <td>{{Blocked proxy}} &amp;lt;!-- 8AFD7D5E0F79 --&amp;gt;</td>\n      <td>NaN</td>\n      <td>NaN</td>\n      <td>NaN</td>\n      <td>NaN</td>\n      <td>NaN</td>\n    </tr>\n    <tr>\n      <th>1</th>\n      <td>/mediawiki/recentchange/1.0.0</td>\n      <td>{'uri': 'https://commons.wikimedia.org/wiki/Fi...</td>\n      <td>2.683954e+09</td>\n      <td>log</td>\n      <td>6</td>\n      <td>File:Bürgermeisterwahl 2023 Malchow - René Put...</td>\n      <td>https://commons.wikimedia.org/wiki/File:B%C3%B...</td>\n      <td>per [[Commons:Deletion requests/File:Bürgermei...</td>\n      <td>2024-12-14 07:55:39</td>\n      <td>Krd</td>\n      <td>...</td>\n      <td>https://commons.wikimedia.org</td>\n      <td>commons.wikimedia.org</td>\n      <td>/w</td>\n      <td>commonswiki</td>\n      <td>per &lt;a href=\"/wiki/Commons:Deletion_requests/F...</td>\n      <td>NaN</td>\n      <td>NaN</td>\n      <td>NaN</td>\n      <td>NaN</td>\n      <td>NaN</td>\n    </tr>\n    <tr>\n      <th>2</th>\n      <td>/mediawiki/recentchange/1.0.0</td>\n      <td>{'uri': 'https://en.wikipedia.org/wiki/2025_Co...</td>\n      <td>1.851732e+09</td>\n      <td>edit</td>\n      <td>0</td>\n      <td>2025 County Championship</td>\n      <td>https://en.wikipedia.org/wiki/2025_County_Cham...</td>\n      <td>[[WP:AES|←]]Removed redirect to [[County Champ...</td>\n      <td>2024-12-14 07:55:35</td>\n      <td>FieldOfWheat</td>\n      <td>...</td>\n      <td>https://en.wikipedia.org</td>\n      <td>en.wikipedia.org</td>\n      <td>/w</td>\n      <td>enwiki</td>\n      <td>&lt;a href=\"/wiki/Wikipedia:AES\" class=\"mw-redire...</td>\n      <td>https://en.wikipedia.org/w/index.php?diff=1263...</td>\n      <td>0.0</td>\n      <td>{'old': 32, 'new': 53579}</td>\n      <td>{'old': 1261093459, 'new': 1263028105}</td>\n      <td>NaN</td>\n    </tr>\n    <tr>\n      <th>3</th>\n      <td>/mediawiki/recentchange/1.0.0</td>\n      <td>{'uri': 'https://ru.wikiquote.org/wiki/%D0%A3%...</td>\n      <td>2.393453e+07</td>\n      <td>log</td>\n      <td>2</td>\n      <td>Участник:209.127.107.89</td>\n      <td>https://ru.wikiquote.org/wiki/%D0%A3%D1%87%D0%...</td>\n      <td>{{Blocked proxy}} &lt;!-- E0471734C1B0 --&gt;</td>\n      <td>2024-12-14 07:55:42</td>\n      <td>QBA-bot</td>\n      <td>...</td>\n      <td>https://ru.wikiquote.org</td>\n      <td>ru.wikiquote.org</td>\n      <td>/w</td>\n      <td>ruwikiquote</td>\n      <td>{{Blocked proxy}} &amp;lt;!-- E0471734C1B0 --&amp;gt;</td>\n      <td>NaN</td>\n      <td>NaN</td>\n      <td>NaN</td>\n      <td>NaN</td>\n      <td>NaN</td>\n    </tr>\n    <tr>\n      <th>4</th>\n      <td>/mediawiki/recentchange/1.0.0</td>\n      <td>{'uri': 'https://commons.wikimedia.org/wiki/Fi...</td>\n      <td>2.683954e+09</td>\n      <td>edit</td>\n      <td>6</td>\n      <td>File:Minster School ruins - geograph.org.uk - ...</td>\n      <td>https://commons.wikimedia.org/wiki/File:Minste...</td>\n      <td>/* wbeditentity-update-languages-and-other-sho...</td>\n      <td>2024-12-14 07:55:41</td>\n      <td>BotMultichillT</td>\n      <td>...</td>\n      <td>https://commons.wikimedia.org</td>\n      <td>commons.wikimedia.org</td>\n      <td>/w</td>\n      <td>commonswiki</td>\n      <td>‎&lt;span dir=\"auto\"&gt;&lt;span class=\"autocomment\"&gt;Ch...</td>\n      <td>https://commons.wikimedia.org/w/index.php?diff...</td>\n      <td>0.0</td>\n      <td>{'old': 6842, 'new': 9564}</td>\n      <td>{'old': 939308420, 'new': 970056491}</td>\n      <td>1.0</td>\n    </tr>\n  </tbody>\n</table>\n<p>5 rows × 26 columns</p>\n</div>"
     },
     "execution_count": 6,
     "metadata": {},
     "output_type": "execute_result"
    }
   ],
   "execution_count": 6
  },
  {
   "metadata": {
    "ExecuteTime": {
     "end_time": "2024-12-14T16:53:51.841714100Z",
     "start_time": "2024-12-14T16:53:51.776887700Z"
    }
   },
   "cell_type": "code",
   "source": [
    "raw_df.info()"
   ],
   "id": "ba6a6a0fc69616bd",
   "outputs": [
    {
     "name": "stdout",
     "output_type": "stream",
     "text": [
      "<class 'pandas.core.frame.DataFrame'>\n",
      "RangeIndex: 40001 entries, 0 to 40000\n",
      "Data columns (total 26 columns):\n",
      " #   Column              Non-Null Count  Dtype         \n",
      "---  ------              --------------  -----         \n",
      " 0   $schema             40001 non-null  object        \n",
      " 1   meta                40001 non-null  object        \n",
      " 2   id                  39079 non-null  float64       \n",
      " 3   type                40001 non-null  object        \n",
      " 4   namespace           40001 non-null  int64         \n",
      " 5   title               40001 non-null  object        \n",
      " 6   title_url           40001 non-null  object        \n",
      " 7   comment             40001 non-null  object        \n",
      " 8   timestamp           40001 non-null  datetime64[ns]\n",
      " 9   user                40001 non-null  object        \n",
      " 10  bot                 40001 non-null  bool          \n",
      " 11  log_id              1991 non-null   float64       \n",
      " 12  log_type            1991 non-null   object        \n",
      " 13  log_action          1991 non-null   object        \n",
      " 14  log_params          1991 non-null   object        \n",
      " 15  log_action_comment  1991 non-null   object        \n",
      " 16  server_url          40001 non-null  object        \n",
      " 17  server_name         40001 non-null  object        \n",
      " 18  server_script_path  40001 non-null  object        \n",
      " 19  wiki                40001 non-null  object        \n",
      " 20  parsedcomment       40001 non-null  object        \n",
      " 21  notify_url          38010 non-null  object        \n",
      " 22  minor               22289 non-null  float64       \n",
      " 23  length              22289 non-null  object        \n",
      " 24  revision            22289 non-null  object        \n",
      " 25  patrolled           16659 non-null  float64       \n",
      "dtypes: bool(1), datetime64[ns](1), float64(4), int64(1), object(19)\n",
      "memory usage: 7.7+ MB\n"
     ]
    }
   ],
   "execution_count": 7
  },
  {
   "metadata": {
    "ExecuteTime": {
     "end_time": "2024-12-14T16:53:59.684830300Z",
     "start_time": "2024-12-14T16:53:59.614018800Z"
    }
   },
   "cell_type": "code",
   "source": [
    "df = raw_df[raw_df[\"bot\"].notna()]\n",
    "df.info()"
   ],
   "id": "ae015e9f5cc937fa",
   "outputs": [
    {
     "name": "stdout",
     "output_type": "stream",
     "text": [
      "<class 'pandas.core.frame.DataFrame'>\n",
      "RangeIndex: 40001 entries, 0 to 40000\n",
      "Data columns (total 26 columns):\n",
      " #   Column              Non-Null Count  Dtype         \n",
      "---  ------              --------------  -----         \n",
      " 0   $schema             40001 non-null  object        \n",
      " 1   meta                40001 non-null  object        \n",
      " 2   id                  39079 non-null  float64       \n",
      " 3   type                40001 non-null  object        \n",
      " 4   namespace           40001 non-null  int64         \n",
      " 5   title               40001 non-null  object        \n",
      " 6   title_url           40001 non-null  object        \n",
      " 7   comment             40001 non-null  object        \n",
      " 8   timestamp           40001 non-null  datetime64[ns]\n",
      " 9   user                40001 non-null  object        \n",
      " 10  bot                 40001 non-null  bool          \n",
      " 11  log_id              1991 non-null   float64       \n",
      " 12  log_type            1991 non-null   object        \n",
      " 13  log_action          1991 non-null   object        \n",
      " 14  log_params          1991 non-null   object        \n",
      " 15  log_action_comment  1991 non-null   object        \n",
      " 16  server_url          40001 non-null  object        \n",
      " 17  server_name         40001 non-null  object        \n",
      " 18  server_script_path  40001 non-null  object        \n",
      " 19  wiki                40001 non-null  object        \n",
      " 20  parsedcomment       40001 non-null  object        \n",
      " 21  notify_url          38010 non-null  object        \n",
      " 22  minor               22289 non-null  float64       \n",
      " 23  length              22289 non-null  object        \n",
      " 24  revision            22289 non-null  object        \n",
      " 25  patrolled           16659 non-null  float64       \n",
      "dtypes: bool(1), datetime64[ns](1), float64(4), int64(1), object(19)\n",
      "memory usage: 7.7+ MB\n"
     ]
    }
   ],
   "execution_count": 8
  },
  {
   "metadata": {
    "ExecuteTime": {
     "end_time": "2024-12-14T16:54:04.588653500Z",
     "start_time": "2024-12-14T16:54:04.565715600Z"
    }
   },
   "cell_type": "code",
   "source": [
    "df[\"bot\"].value_counts()"
   ],
   "id": "ff70f48c82db906a",
   "outputs": [
    {
     "data": {
      "text/plain": "bot\nFalse    21691\nTrue     18310\nName: count, dtype: int64"
     },
     "execution_count": 9,
     "metadata": {},
     "output_type": "execute_result"
    }
   ],
   "execution_count": 9
  },
  {
   "metadata": {
    "ExecuteTime": {
     "end_time": "2024-12-14T16:54:21.774750900Z",
     "start_time": "2024-12-14T16:54:21.437750800Z"
    }
   },
   "cell_type": "code",
   "source": [
    "df.to_json(\"data/edits.json\", orient=\"records\", lines=True)"
   ],
   "id": "cdb468f22eba374b",
   "outputs": [],
   "execution_count": 10
  },
  {
   "cell_type": "code",
   "execution_count": null,
   "outputs": [],
   "source": [],
   "metadata": {
    "collapsed": false
   },
   "id": "7c941e59942dc13e"
  }
 ],
 "metadata": {
  "kernelspec": {
   "display_name": "Python 3",
   "language": "python",
   "name": "python3"
  },
  "language_info": {
   "codemirror_mode": {
    "name": "ipython",
    "version": 2
   },
   "file_extension": ".py",
   "mimetype": "text/x-python",
   "name": "python",
   "nbconvert_exporter": "python",
   "pygments_lexer": "ipython2",
   "version": "2.7.6"
  }
 },
 "nbformat": 4,
 "nbformat_minor": 5
}
