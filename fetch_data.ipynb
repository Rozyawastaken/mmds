{
 "cells": [
  {
   "metadata": {
    "ExecuteTime": {
     "end_time": "2024-11-16T16:17:48.180305Z",
     "start_time": "2024-11-16T14:34:11.546020Z"
    }
   },
   "cell_type": "code",
   "source": [
    "import json\n",
    "from sseclient import SSEClient as EventSource\n",
    "\n",
    "url = 'https://stream.wikimedia.org/v2/stream/recentchange'\n",
    "sampling_rate = 20\n",
    "counter = 0\n",
    "N = 40_000\n",
    "users = {}\n",
    "with open(\"edits.json\", \"w\") as file:\n",
    "    for event in EventSource(url):\n",
    "        if not event.event == 'message':\n",
    "            continue\n",
    "        try:\n",
    "            change = json.loads(event.data)\n",
    "        except (ValueError, KeyError):\n",
    "            continue\n",
    "            \n",
    "        if hash(change[\"meta\"][\"id\"]) % 100 < sampling_rate:\n",
    "            json.dump(change, file)\n",
    "            file.write('\\n')  # Write each change on a new line\n",
    "            \n",
    "            counter += 1\n",
    "            if counter % 1000 == 0:\n",
    "                print(f\"Processed {counter}/40000 records...\")\n",
    "                \n",
    "            if counter > N:\n",
    "                break"
   ],
   "id": "19a1efe2e01b96e8",
   "outputs": [
    {
     "name": "stdout",
     "output_type": "stream",
     "text": [
      "Processed 1000/40000 records...\n",
      "\n",
      "Processed 2000/40000 records...\n",
      "Processed 3000/40000 records...\n",
      "\n",
      "Processed 4000/40000 records...\n",
      "Processed 5000/40000 records...\n",
      "\n",
      "Processed 6000/40000 records...\n",
      "Processed 7000/40000 records...\n",
      "Processed 8000/40000 records...\n",
      "Processed 9000/40000 records...\n",
      "Processed 10000/40000 records...\n",
      "Processed 11000/40000 records...\n",
      "Processed 12000/40000 records...\n",
      "\n",
      "Processed 13000/40000 records...\n",
      "Processed 14000/40000 records...\n",
      "Processed 15000/40000 records...\n",
      "\n",
      "Processed 16000/40000 records...\n",
      "Processed 17000/40000 records...\n",
      "\n",
      "Processed 18000/40000 records...\n",
      "Processed 19000/40000 records...\n",
      "Processed 20000/40000 records...\n",
      "\n",
      "Processed 21000/40000 records...\n",
      "Processed 22000/40000 records...\n",
      "\n",
      "Processed 23000/40000 records...\n",
      "Processed 24000/40000 records...\n",
      "Processed 25000/40000 records...\n",
      "\n",
      "Processed 26000/40000 records...\n",
      "Processed 27000/40000 records...\n",
      "\n",
      "Processed 28000/40000 records...\n",
      "Processed 29000/40000 records...\n",
      "\n",
      "Processed 30000/40000 records...\n",
      "Processed 31000/40000 records...\n",
      "Processed 32000/40000 records...\n",
      "\n",
      "Processed 33000/40000 records...\n",
      "Processed 34000/40000 records...\n",
      "Processed 35000/40000 records...\n",
      "\n",
      "Processed 36000/40000 records...\n",
      "Processed 37000/40000 records...\n",
      "Processed 38000/40000 records...\n",
      "\n",
      "Processed 39000/40000 records...\n",
      "\n",
      "Processed 40000/40000 records...\n"
     ]
    }
   ],
   "execution_count": 5
  }
 ],
 "metadata": {
  "kernelspec": {
   "display_name": "Python 3",
   "language": "python",
   "name": "python3"
  },
  "language_info": {
   "codemirror_mode": {
    "name": "ipython",
    "version": 2
   },
   "file_extension": ".py",
   "mimetype": "text/x-python",
   "name": "python",
   "nbconvert_exporter": "python",
   "pygments_lexer": "ipython2",
   "version": "2.7.6"
  }
 },
 "nbformat": 4,
 "nbformat_minor": 5
}
