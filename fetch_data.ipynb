{
 "cells": [
  {
   "metadata": {
    "ExecuteTime": {
     "end_time": "2024-11-17T07:39:50.882052Z",
     "start_time": "2024-11-17T07:39:50.879744Z"
    }
   },
   "cell_type": "code",
   "source": [
    "import json\n",
    "import pandas as pd\n",
    "from sseclient import SSEClient as EventSource\n",
    "from sklearn.model_selection import train_test_split"
   ],
   "id": "f7bff72cd7778cd5",
   "outputs": [],
   "execution_count": 16
  },
  {
   "metadata": {
    "ExecuteTime": {
     "end_time": "2024-11-17T07:35:47.947255Z",
     "start_time": "2024-11-17T07:35:46.396975Z"
    }
   },
   "cell_type": "code",
   "outputs": [],
   "execution_count": 15,
   "source": [
    "url = 'https://stream.wikimedia.org/v2/stream/recentchange'\n",
    "sampling_rate = 20\n",
    "counter = 0\n",
    "N = 40_000\n",
    "with open(\"data/raw_edits.json\", \"w\") as file:\n",
    "    for event in EventSource(url):\n",
    "        if not event.event == 'message':\n",
    "            continue\n",
    "        try:\n",
    "            change = json.loads(event.data)\n",
    "        except (ValueError, KeyError):\n",
    "            continue\n",
    "            \n",
    "        if hash(change[\"meta\"][\"id\"]) % 100 < sampling_rate:\n",
    "            json.dump(change, file)\n",
    "            file.write('\\n')  # Write each change on a new line\n",
    "            \n",
    "            counter += 1\n",
    "            if counter % 1000 == 0:\n",
    "                print(f\"Processed {counter}/40000 records...\")\n",
    "                \n",
    "            if counter > N:\n",
    "                break"
   ],
   "id": "19a1efe2e01b96e8"
  },
  {
   "metadata": {
    "ExecuteTime": {
     "end_time": "2024-11-17T07:42:57.800869Z",
     "start_time": "2024-11-17T07:42:57.019611Z"
    }
   },
   "cell_type": "code",
   "source": [
    "raw_df = pd.read_json(\"data/raw_edits.json\", lines=True)\n",
    "raw_df.head()"
   ],
   "id": "27750fc8a209cbde",
   "outputs": [
    {
     "data": {
      "text/plain": [
       "                         $schema  \\\n",
       "0  /mediawiki/recentchange/1.0.0   \n",
       "1  /mediawiki/recentchange/1.0.0   \n",
       "2  /mediawiki/recentchange/1.0.0   \n",
       "3  /mediawiki/recentchange/1.0.0   \n",
       "4  /mediawiki/recentchange/1.0.0   \n",
       "\n",
       "                                                meta            id  \\\n",
       "0  {'uri': 'https://commons.wikimedia.org/wiki/Ca...  2.656239e+09   \n",
       "1  {'uri': 'https://www.wikidata.org/wiki/Q870695...  2.343572e+09   \n",
       "2  {'uri': 'https://www.wikidata.org/wiki/Q131199...  2.343572e+09   \n",
       "3  {'uri': 'https://www.wikidata.org/wiki/Q115899...  2.343572e+09   \n",
       "4  {'uri': 'https://en.wikipedia.org/wiki/2011%E2...  1.841691e+09   \n",
       "\n",
       "         type  namespace                       title  \\\n",
       "0  categorize       14.0      Category:Little Bedwyn   \n",
       "1        edit        0.0                   Q87069579   \n",
       "2        edit        0.0                  Q131199989   \n",
       "3        edit        0.0                  Q115899409   \n",
       "4        edit        0.0  2011–12 El Hierro eruption   \n",
       "\n",
       "                                           title_url  \\\n",
       "0  https://commons.wikimedia.org/wiki/Category:Li...   \n",
       "1            https://www.wikidata.org/wiki/Q87069579   \n",
       "2           https://www.wikidata.org/wiki/Q131199989   \n",
       "3           https://www.wikidata.org/wiki/Q115899409   \n",
       "4  https://en.wikipedia.org/wiki/2011%E2%80%9312_...   \n",
       "\n",
       "                                             comment           timestamp  \\\n",
       "0  [[:File:Sunflowers at Chisbury Manor Farm - ge... 2024-11-16 14:34:08   \n",
       "1  /* wbeditentity-update-languages-and-other-sho... 2024-11-16 14:34:10   \n",
       "2  /* wbsetclaim-update:2||1|1 */ [[Property:P31]... 2024-11-16 14:34:11   \n",
       "3  /* wbcreateclaim-create:1| */ [[Property:P1104... 2024-11-16 14:34:11   \n",
       "4  whitespace cleanup; convert special characters... 2024-11-16 14:34:10   \n",
       "\n",
       "            user  ...                                      parsedcomment  \\\n",
       "0    GeographBot  ...  <a href=\"/wiki/File:Sunflowers_at_Chisbury_Man...   \n",
       "1  Twofivesixbot  ...  ‎<span dir=\"auto\"><span class=\"autocomment\">Ch...   \n",
       "2       Borealex  ...  ‎<span dir=\"auto\"><span class=\"autocomment\">Из...   \n",
       "3       Vicarage  ...  ‎<span dir=\"auto\"><span class=\"autocomment\">Cr...   \n",
       "4         Beland  ...  whitespace cleanup; convert special characters...   \n",
       "\n",
       "  minor patrolled                        length  \\\n",
       "0   NaN       NaN                           NaN   \n",
       "1   0.0       1.0  {'old': 28985, 'new': 27368}   \n",
       "2   0.0       1.0     {'old': 1315, 'new': 951}   \n",
       "3   0.0       1.0    {'old': 3710, 'new': 4070}   \n",
       "4   0.0       NaN  {'old': 22423, 'new': 22416}   \n",
       "\n",
       "                                 revision log_id log_type  log_action  \\\n",
       "0                                     NaN    NaN      NaN         NaN   \n",
       "1  {'old': 2198076458, 'new': 2275533933}    NaN      NaN         NaN   \n",
       "2  {'old': 2275533853, 'new': 2275533946}    NaN      NaN         NaN   \n",
       "3  {'old': 2269527118, 'new': 2275533947}    NaN      NaN         NaN   \n",
       "4  {'old': 1243962954, 'new': 1257763333}    NaN      NaN         NaN   \n",
       "\n",
       "   log_params log_action_comment  \n",
       "0         NaN                NaN  \n",
       "1         NaN                NaN  \n",
       "2         NaN                NaN  \n",
       "3         NaN                NaN  \n",
       "4         NaN                NaN  \n",
       "\n",
       "[5 rows x 26 columns]"
      ],
      "text/html": [
       "<div>\n",
       "<style scoped>\n",
       "    .dataframe tbody tr th:only-of-type {\n",
       "        vertical-align: middle;\n",
       "    }\n",
       "\n",
       "    .dataframe tbody tr th {\n",
       "        vertical-align: top;\n",
       "    }\n",
       "\n",
       "    .dataframe thead th {\n",
       "        text-align: right;\n",
       "    }\n",
       "</style>\n",
       "<table border=\"1\" class=\"dataframe\">\n",
       "  <thead>\n",
       "    <tr style=\"text-align: right;\">\n",
       "      <th></th>\n",
       "      <th>$schema</th>\n",
       "      <th>meta</th>\n",
       "      <th>id</th>\n",
       "      <th>type</th>\n",
       "      <th>namespace</th>\n",
       "      <th>title</th>\n",
       "      <th>title_url</th>\n",
       "      <th>comment</th>\n",
       "      <th>timestamp</th>\n",
       "      <th>user</th>\n",
       "      <th>...</th>\n",
       "      <th>parsedcomment</th>\n",
       "      <th>minor</th>\n",
       "      <th>patrolled</th>\n",
       "      <th>length</th>\n",
       "      <th>revision</th>\n",
       "      <th>log_id</th>\n",
       "      <th>log_type</th>\n",
       "      <th>log_action</th>\n",
       "      <th>log_params</th>\n",
       "      <th>log_action_comment</th>\n",
       "    </tr>\n",
       "  </thead>\n",
       "  <tbody>\n",
       "    <tr>\n",
       "      <th>0</th>\n",
       "      <td>/mediawiki/recentchange/1.0.0</td>\n",
       "      <td>{'uri': 'https://commons.wikimedia.org/wiki/Ca...</td>\n",
       "      <td>2.656239e+09</td>\n",
       "      <td>categorize</td>\n",
       "      <td>14.0</td>\n",
       "      <td>Category:Little Bedwyn</td>\n",
       "      <td>https://commons.wikimedia.org/wiki/Category:Li...</td>\n",
       "      <td>[[:File:Sunflowers at Chisbury Manor Farm - ge...</td>\n",
       "      <td>2024-11-16 14:34:08</td>\n",
       "      <td>GeographBot</td>\n",
       "      <td>...</td>\n",
       "      <td>&lt;a href=\"/wiki/File:Sunflowers_at_Chisbury_Man...</td>\n",
       "      <td>NaN</td>\n",
       "      <td>NaN</td>\n",
       "      <td>NaN</td>\n",
       "      <td>NaN</td>\n",
       "      <td>NaN</td>\n",
       "      <td>NaN</td>\n",
       "      <td>NaN</td>\n",
       "      <td>NaN</td>\n",
       "      <td>NaN</td>\n",
       "    </tr>\n",
       "    <tr>\n",
       "      <th>1</th>\n",
       "      <td>/mediawiki/recentchange/1.0.0</td>\n",
       "      <td>{'uri': 'https://www.wikidata.org/wiki/Q870695...</td>\n",
       "      <td>2.343572e+09</td>\n",
       "      <td>edit</td>\n",
       "      <td>0.0</td>\n",
       "      <td>Q87069579</td>\n",
       "      <td>https://www.wikidata.org/wiki/Q87069579</td>\n",
       "      <td>/* wbeditentity-update-languages-and-other-sho...</td>\n",
       "      <td>2024-11-16 14:34:10</td>\n",
       "      <td>Twofivesixbot</td>\n",
       "      <td>...</td>\n",
       "      <td>‎&lt;span dir=\"auto\"&gt;&lt;span class=\"autocomment\"&gt;Ch...</td>\n",
       "      <td>0.0</td>\n",
       "      <td>1.0</td>\n",
       "      <td>{'old': 28985, 'new': 27368}</td>\n",
       "      <td>{'old': 2198076458, 'new': 2275533933}</td>\n",
       "      <td>NaN</td>\n",
       "      <td>NaN</td>\n",
       "      <td>NaN</td>\n",
       "      <td>NaN</td>\n",
       "      <td>NaN</td>\n",
       "    </tr>\n",
       "    <tr>\n",
       "      <th>2</th>\n",
       "      <td>/mediawiki/recentchange/1.0.0</td>\n",
       "      <td>{'uri': 'https://www.wikidata.org/wiki/Q131199...</td>\n",
       "      <td>2.343572e+09</td>\n",
       "      <td>edit</td>\n",
       "      <td>0.0</td>\n",
       "      <td>Q131199989</td>\n",
       "      <td>https://www.wikidata.org/wiki/Q131199989</td>\n",
       "      <td>/* wbsetclaim-update:2||1|1 */ [[Property:P31]...</td>\n",
       "      <td>2024-11-16 14:34:11</td>\n",
       "      <td>Borealex</td>\n",
       "      <td>...</td>\n",
       "      <td>‎&lt;span dir=\"auto\"&gt;&lt;span class=\"autocomment\"&gt;Из...</td>\n",
       "      <td>0.0</td>\n",
       "      <td>1.0</td>\n",
       "      <td>{'old': 1315, 'new': 951}</td>\n",
       "      <td>{'old': 2275533853, 'new': 2275533946}</td>\n",
       "      <td>NaN</td>\n",
       "      <td>NaN</td>\n",
       "      <td>NaN</td>\n",
       "      <td>NaN</td>\n",
       "      <td>NaN</td>\n",
       "    </tr>\n",
       "    <tr>\n",
       "      <th>3</th>\n",
       "      <td>/mediawiki/recentchange/1.0.0</td>\n",
       "      <td>{'uri': 'https://www.wikidata.org/wiki/Q115899...</td>\n",
       "      <td>2.343572e+09</td>\n",
       "      <td>edit</td>\n",
       "      <td>0.0</td>\n",
       "      <td>Q115899409</td>\n",
       "      <td>https://www.wikidata.org/wiki/Q115899409</td>\n",
       "      <td>/* wbcreateclaim-create:1| */ [[Property:P1104...</td>\n",
       "      <td>2024-11-16 14:34:11</td>\n",
       "      <td>Vicarage</td>\n",
       "      <td>...</td>\n",
       "      <td>‎&lt;span dir=\"auto\"&gt;&lt;span class=\"autocomment\"&gt;Cr...</td>\n",
       "      <td>0.0</td>\n",
       "      <td>1.0</td>\n",
       "      <td>{'old': 3710, 'new': 4070}</td>\n",
       "      <td>{'old': 2269527118, 'new': 2275533947}</td>\n",
       "      <td>NaN</td>\n",
       "      <td>NaN</td>\n",
       "      <td>NaN</td>\n",
       "      <td>NaN</td>\n",
       "      <td>NaN</td>\n",
       "    </tr>\n",
       "    <tr>\n",
       "      <th>4</th>\n",
       "      <td>/mediawiki/recentchange/1.0.0</td>\n",
       "      <td>{'uri': 'https://en.wikipedia.org/wiki/2011%E2...</td>\n",
       "      <td>1.841691e+09</td>\n",
       "      <td>edit</td>\n",
       "      <td>0.0</td>\n",
       "      <td>2011–12 El Hierro eruption</td>\n",
       "      <td>https://en.wikipedia.org/wiki/2011%E2%80%9312_...</td>\n",
       "      <td>whitespace cleanup; convert special characters...</td>\n",
       "      <td>2024-11-16 14:34:10</td>\n",
       "      <td>Beland</td>\n",
       "      <td>...</td>\n",
       "      <td>whitespace cleanup; convert special characters...</td>\n",
       "      <td>0.0</td>\n",
       "      <td>NaN</td>\n",
       "      <td>{'old': 22423, 'new': 22416}</td>\n",
       "      <td>{'old': 1243962954, 'new': 1257763333}</td>\n",
       "      <td>NaN</td>\n",
       "      <td>NaN</td>\n",
       "      <td>NaN</td>\n",
       "      <td>NaN</td>\n",
       "      <td>NaN</td>\n",
       "    </tr>\n",
       "  </tbody>\n",
       "</table>\n",
       "<p>5 rows × 26 columns</p>\n",
       "</div>"
      ]
     },
     "execution_count": 19,
     "metadata": {},
     "output_type": "execute_result"
    }
   ],
   "execution_count": 19
  },
  {
   "metadata": {
    "ExecuteTime": {
     "end_time": "2024-11-17T07:42:58.582284Z",
     "start_time": "2024-11-17T07:42:58.534995Z"
    }
   },
   "cell_type": "code",
   "source": "raw_df.info()",
   "id": "ba6a6a0fc69616bd",
   "outputs": [
    {
     "name": "stdout",
     "output_type": "stream",
     "text": [
      "<class 'pandas.core.frame.DataFrame'>\n",
      "RangeIndex: 40002 entries, 0 to 40001\n",
      "Data columns (total 26 columns):\n",
      " #   Column              Non-Null Count  Dtype         \n",
      "---  ------              --------------  -----         \n",
      " 0   $schema             40002 non-null  object        \n",
      " 1   meta                40002 non-null  object        \n",
      " 2   id                  39248 non-null  float64       \n",
      " 3   type                40000 non-null  object        \n",
      " 4   namespace           40000 non-null  float64       \n",
      " 5   title               40000 non-null  object        \n",
      " 6   title_url           40000 non-null  object        \n",
      " 7   comment             40000 non-null  object        \n",
      " 8   timestamp           40000 non-null  datetime64[ns]\n",
      " 9   user                39999 non-null  object        \n",
      " 10  bot                 40000 non-null  float64       \n",
      " 11  notify_url          38143 non-null  object        \n",
      " 12  server_url          40000 non-null  object        \n",
      " 13  server_name         40000 non-null  object        \n",
      " 14  server_script_path  40000 non-null  object        \n",
      " 15  wiki                40000 non-null  object        \n",
      " 16  parsedcomment       40000 non-null  object        \n",
      " 17  minor               22990 non-null  float64       \n",
      " 18  patrolled           16641 non-null  float64       \n",
      " 19  length              22990 non-null  object        \n",
      " 20  revision            22990 non-null  object        \n",
      " 21  log_id              1857 non-null   float64       \n",
      " 22  log_type            1857 non-null   object        \n",
      " 23  log_action          1857 non-null   object        \n",
      " 24  log_params          1857 non-null   object        \n",
      " 25  log_action_comment  1857 non-null   object        \n",
      "dtypes: datetime64[ns](1), float64(6), object(19)\n",
      "memory usage: 7.9+ MB\n"
     ]
    }
   ],
   "execution_count": 20
  },
  {
   "metadata": {
    "ExecuteTime": {
     "end_time": "2024-11-17T07:44:38.103356Z",
     "start_time": "2024-11-17T07:44:38.034174Z"
    }
   },
   "cell_type": "code",
   "source": [
    "df = raw_df[raw_df[\"bot\"].notna()]\n",
    "df.info()"
   ],
   "id": "ae015e9f5cc937fa",
   "outputs": [
    {
     "name": "stdout",
     "output_type": "stream",
     "text": [
      "<class 'pandas.core.frame.DataFrame'>\n",
      "Index: 40000 entries, 0 to 40001\n",
      "Data columns (total 26 columns):\n",
      " #   Column              Non-Null Count  Dtype         \n",
      "---  ------              --------------  -----         \n",
      " 0   $schema             40000 non-null  object        \n",
      " 1   meta                40000 non-null  object        \n",
      " 2   id                  39248 non-null  float64       \n",
      " 3   type                40000 non-null  object        \n",
      " 4   namespace           40000 non-null  float64       \n",
      " 5   title               40000 non-null  object        \n",
      " 6   title_url           40000 non-null  object        \n",
      " 7   comment             40000 non-null  object        \n",
      " 8   timestamp           40000 non-null  datetime64[ns]\n",
      " 9   user                39999 non-null  object        \n",
      " 10  bot                 40000 non-null  float64       \n",
      " 11  notify_url          38143 non-null  object        \n",
      " 12  server_url          40000 non-null  object        \n",
      " 13  server_name         40000 non-null  object        \n",
      " 14  server_script_path  40000 non-null  object        \n",
      " 15  wiki                40000 non-null  object        \n",
      " 16  parsedcomment       40000 non-null  object        \n",
      " 17  minor               22990 non-null  float64       \n",
      " 18  patrolled           16641 non-null  float64       \n",
      " 19  length              22990 non-null  object        \n",
      " 20  revision            22990 non-null  object        \n",
      " 21  log_id              1857 non-null   float64       \n",
      " 22  log_type            1857 non-null   object        \n",
      " 23  log_action          1857 non-null   object        \n",
      " 24  log_params          1857 non-null   object        \n",
      " 25  log_action_comment  1857 non-null   object        \n",
      "dtypes: datetime64[ns](1), float64(6), object(19)\n",
      "memory usage: 8.2+ MB\n"
     ]
    }
   ],
   "execution_count": 24
  },
  {
   "metadata": {
    "ExecuteTime": {
     "end_time": "2024-11-17T07:45:04.590479Z",
     "start_time": "2024-11-17T07:45:04.586285Z"
    }
   },
   "cell_type": "code",
   "source": "df[\"bot\"].value_counts()",
   "id": "ff70f48c82db906a",
   "outputs": [
    {
     "data": {
      "text/plain": [
       "bot\n",
       "0.0    26044\n",
       "1.0    13956\n",
       "Name: count, dtype: int64"
      ]
     },
     "execution_count": 25,
     "metadata": {},
     "output_type": "execute_result"
    }
   ],
   "execution_count": 25
  },
  {
   "metadata": {
    "ExecuteTime": {
     "end_time": "2024-11-17T07:47:50.811459Z",
     "start_time": "2024-11-17T07:47:50.770796Z"
    }
   },
   "cell_type": "code",
   "source": [
    "train_df, test_df = train_test_split(df, test_size=0.2, random_state=42, stratify=df[\"bot\"])\n",
    "len(train_df), len(test_df)"
   ],
   "id": "b2714e16be5d3258",
   "outputs": [
    {
     "data": {
      "text/plain": [
       "(32000, 8000)"
      ]
     },
     "execution_count": 34,
     "metadata": {},
     "output_type": "execute_result"
    }
   ],
   "execution_count": 34
  },
  {
   "metadata": {
    "ExecuteTime": {
     "end_time": "2024-11-17T07:50:11.578956Z",
     "start_time": "2024-11-17T07:50:11.008902Z"
    }
   },
   "cell_type": "code",
   "source": [
    "train_df.to_json(\"data/train.json\", orient=\"records\", lines=True)\n",
    "test_df.to_json(\"data/test.json\", orient=\"records\", lines=True)"
   ],
   "id": "70f606547665678a",
   "outputs": [],
   "execution_count": 37
  }
 ],
 "metadata": {
  "kernelspec": {
   "display_name": "Python 3",
   "language": "python",
   "name": "python3"
  },
  "language_info": {
   "codemirror_mode": {
    "name": "ipython",
    "version": 2
   },
   "file_extension": ".py",
   "mimetype": "text/x-python",
   "name": "python",
   "nbconvert_exporter": "python",
   "pygments_lexer": "ipython2",
   "version": "2.7.6"
  }
 },
 "nbformat": 4,
 "nbformat_minor": 5
}
