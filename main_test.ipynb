{
 "cells": [
  {
   "cell_type": "code",
   "id": "7f06e2a279b31b9e",
   "metadata": {
    "ExecuteTime": {
     "end_time": "2024-11-17T16:01:16.046318Z",
     "start_time": "2024-11-17T16:01:16.039955Z"
    }
   },
   "source": [
    "import time\n",
    "\n",
    "from pyspark.sql import SparkSession\n",
    "from pyspark.sql import functions as F\n",
    "from pyspark.sql.types import StructType, StructField, StringType, TimestampType, IntegerType, FloatType, BooleanType"
   ],
   "outputs": [],
   "execution_count": 19
  },
  {
   "metadata": {
    "ExecuteTime": {
     "end_time": "2024-11-17T16:01:17.171455Z",
     "start_time": "2024-11-17T16:01:17.168141Z"
    }
   },
   "cell_type": "code",
   "source": "spark = SparkSession.builder.getOrCreate() # Initialize Spark session",
   "id": "4ecd4052b980992a",
   "outputs": [],
   "execution_count": 20
  },
  {
   "metadata": {
    "ExecuteTime": {
     "end_time": "2024-11-17T16:01:17.914845Z",
     "start_time": "2024-11-17T16:01:17.897798Z"
    }
   },
   "cell_type": "code",
   "source": [
    "data_schema = StructType(\n",
    "    [\n",
    "        # StructField(\"$schema\", StringType(), True),\n",
    "        # StructField(\n",
    "        #     \"meta\",\n",
    "        #     StructType([\n",
    "        #         StructField(\"uri\", StringType(), True),\n",
    "        #         StructField(\"request_id\", StringType(), True),\n",
    "        #         StructField(\"id\", StringType(), True),\n",
    "        #         StructField(\"dt\", StringType(), True),\n",
    "        #         StructField(\"domain\", StringType(), True),\n",
    "        #         StructField(\"stream\", StringType(), True),\n",
    "        #         StructField(\"topic\", StringType(), True),\n",
    "        #         StructField(\"partition\", StringType(), True),\n",
    "        #         StructField(\"offset\", StringType(), True)\n",
    "        #     ]),\n",
    "        #     True\n",
    "        # ),\n",
    "        # StructField(\"id\", StringType(), True),\n",
    "        # StructField(\"type\", StringType(), True),\n",
    "        # StructField(\"namespace\", StringType(), True),\n",
    "        StructField(\"title\", StringType(), True),\n",
    "        StructField(\"title_url\", StringType(), True),\n",
    "        StructField(\"comment\", StringType(), True),\n",
    "        #StructField(\"timestamp\", StringType(), True),\n",
    "        StructField(\"user\", StringType(), True),\n",
    "        StructField(\"bot\", StringType(), True),\n",
    "        #StructField(\"notify_url\", StringType(), True),\n",
    "        #StructField(\"minor\", StringType(), True),\n",
    "        #StructField(\"patrolled\", StringType(), True),\n",
    "        # StructField(\n",
    "        #     \"length\",\n",
    "        #     StructType([\n",
    "        #         StructField(\"old\", StringType(), True),\n",
    "        #         StructField(\"new\", StringType(), True)\n",
    "        #     ]),\n",
    "        #     True\n",
    "        # ),\n",
    "        # StructField(\n",
    "        #     \"revision\",\n",
    "        #     StructType([\n",
    "        #         StructField(\"old\", StringType(), True),\n",
    "        #         StructField(\"new\", StringType(), True)\n",
    "        #     ]),\n",
    "        #     True\n",
    "        # ),\n",
    "        # StructField(\"server_url\", StringType(), True),\n",
    "        # StructField(\"server_name\", StringType(), True),\n",
    "        # StructField(\"server_script_path\", StringType(), True),\n",
    "        #StructField(\"wiki\", StringType(), True),\n",
    "        StructField(\"parsedcomment\", StringType(), True)\n",
    "    ]\n",
    ")"
   ],
   "id": "87728213032d49f7",
   "outputs": [],
   "execution_count": 21
  },
  {
   "metadata": {
    "ExecuteTime": {
     "end_time": "2024-11-17T16:01:38.196649Z",
     "start_time": "2024-11-17T16:01:38.179649Z"
    }
   },
   "cell_type": "code",
   "source": [
    "# Read streaming data from socket\n",
    "stream_df = (\n",
    "    spark.readStream\n",
    "    .format(\"socket\")\n",
    "    .option(\"host\", \"localhost\")\n",
    "    .option(\"port\", 9999)\n",
    "    .load()\n",
    ")\n",
    "\n",
    "# stream_df = (\n",
    "#     spark.readStream.format(\"json\")\n",
    "#     .option(\"path\", \"stream\")\n",
    "#     .schema(data_schema)\n",
    "#     .load()\n",
    "# )"
   ],
   "id": "b4639b5aa353bbe7",
   "outputs": [
    {
     "name": "stderr",
     "output_type": "stream",
     "text": [
      "24/11/17 18:01:38 WARN TextSocketSourceProvider: The socket source should not be used for production applications! It does not support recovery.\n"
     ]
    }
   ],
   "execution_count": 25
  },
  {
   "metadata": {
    "ExecuteTime": {
     "end_time": "2024-11-17T16:01:39.096953Z",
     "start_time": "2024-11-17T16:01:39.054037Z"
    }
   },
   "cell_type": "code",
   "source": [
    "stream_df = (\n",
    "    stream_df.filter(F.col(\"value\").startswith(\"data: {\"))\n",
    "    .select(F.trim(F.substring(F.col(\"value\"), 7, 1_000_000)).alias(\"json_string\"))\n",
    "    .select(F.from_json(F.col(\"json_string\"), data_schema).alias(\"parsed\"))\n",
    "    .select(\"parsed.*\")\n",
    ")"
   ],
   "id": "cac973368226d2e4",
   "outputs": [],
   "execution_count": 26
  },
  {
   "metadata": {
    "ExecuteTime": {
     "end_time": "2024-11-17T16:01:44.654318Z",
     "start_time": "2024-11-17T16:01:39.595129Z"
    }
   },
   "cell_type": "code",
   "source": [
    "stream_df = spark.readStream.format(\"rate\").option(\"rowsPerSecond\", 3).load()\n",
    "query = (\n",
    "    stream_df.writeStream\n",
    "    .trigger(processingTime=\"1 seconds\")\n",
    "    .outputMode(\"append\")\n",
    "    .format(\"console\")\n",
    "    .start()\n",
    ")\n",
    "time.sleep(5)\n",
    "query.stop()"
   ],
   "id": "e4366caaf6737181",
   "outputs": [
    {
     "name": "stderr",
     "output_type": "stream",
     "text": [
      "24/11/17 18:01:39 WARN ResolveWriteToStream: Temporary checkpoint location created which is deleted normally when the query didn't fail: /tmp/temporary-b9005cd6-1f66-4529-9ac5-555f7174a88d. If it's required to delete it under any circumstances, please set spark.sql.streaming.forceDeleteTempCheckpointLocation to true. Important to know deleting temp checkpoint folder is best effort.\n",
      "24/11/17 18:01:39 WARN ResolveWriteToStream: spark.sql.adaptive.enabled is not supported in streaming DataFrames/Datasets and will be disabled.\n"
     ]
    },
    {
     "name": "stdout",
     "output_type": "stream",
     "text": [
      "-------------------------------------------\n",
      "Batch: 0\n",
      "-------------------------------------------\n",
      "+-----+---------+-------+----+---+-------------+\n",
      "|title|title_url|comment|user|bot|parsedcomment|\n",
      "+-----+---------+-------+----+---+-------------+\n",
      "+-----+---------+-------+----+---+-------------+\n",
      "\n",
      "-------------------------------------------\n",
      "Batch: 1\n",
      "-------------------------------------------\n",
      "+-------------------------+--------------------+--------------------+---------------+-----+--------------------+\n",
      "|                    title|           title_url|             comment|           user|  bot|       parsedcomment|\n",
      "+-------------------------+--------------------+--------------------+---------------+-----+--------------------+\n",
      "|     Category:WikiProj...|https://en.wikipe...|[[:Talk:Zach Wils...|       SporkBot| true|<a href=\"/wiki/Ta...|\n",
      "|     Category:Creative...|https://commons.w...|[[:File:Vuelo del...|      Luisalvaz|false|<a href=\"/wiki/Fi...|\n",
      "|               Q131250799|https://www.wikid...|/* wbsetclaim-cre...|      Lymantria|false|‎<span dir=\"auto\"...|\n",
      "|      Talk:MICA (missile)|https://en.wikipe...|Fixing [[Wikipedi...| Qwerfjkl (bot)| true|Fixing <a href=\"/...|\n",
      "|     Category:Creative...|https://commons.w...|[[:File:Vuelo del...|      Luisalvaz|false|<a href=\"/wiki/Fi...|\n",
      "|     Category:Self-pub...|https://commons.w...|[[:File:Vuelo del...|      Luisalvaz|false|<a href=\"/wiki/Fi...|\n",
      "|                 Q8529810|https://www.wikid...|/* wbsetsitelink-...|          Civvì|false|‎<span dir=\"auto\"...|\n",
      "|     Category:Escuela ...|https://commons.w...|[[:File:Vuelo del...|      Luisalvaz|false|<a href=\"/wiki/Fi...|\n",
      "|     Category:Self-pub...|https://commons.w...|[[:File:Vuelo del...|      Luisalvaz|false|<a href=\"/wiki/Fi...|\n",
      "|     Category:Escuela ...|https://commons.w...|[[:File:Vuelo del...|      Luisalvaz|false|<a href=\"/wiki/Fi...|\n",
      "|     Category:PD-shape...|https://commons.w...|[[:File:UN Conven...| Bildersindtoll|false|<a href=\"/wiki/Fi...|\n",
      "|     Category:Illustra...|https://commons.w...|[[:File:Baron33a....|EmpressHarmonic|false|<a href=\"/wiki/Fi...|\n",
      "|        File:Baron27a.gif|https://commons.w...|Adding [[Category...|EmpressHarmonic|false|Adding <a href=\"/...|\n",
      "|     Category:Prints b...|https://commons.w...|[[:File:Landschap...|       Pelikana|false|<a href=\"/wiki/Fi...|\n",
      "|     File:Hoist of two...|https://commons.w...|/* wbeditentity-u...|      Emijrpbot| true|‎<span dir=\"auto\"...|\n",
      "|     File:Landschap me...|https://commons.w...|Adding [[Category...|       Pelikana|false|Adding <a href=\"/...|\n",
      "|               Q131250837|https://www.wikid...|/* wbsetdescripti...|  Mr.Ibrahembot| true|‏<span dir=\"auto\"...|\n",
      "|     Category:Illustra...|https://commons.w...|[[:File:Baron25a....|EmpressHarmonic|false|<a href=\"/wiki/Fi...|\n",
      "|国民民主党 (インドネシア)|https://ja.wikipe...|          /* 党史 */|         阿保山|false|<span class=\"auto...|\n",
      "|        File:Baron19a.gif|https://commons.w...|Adding [[Category...|EmpressHarmonic|false|Adding <a href=\"/...|\n",
      "+-------------------------+--------------------+--------------------+---------------+-----+--------------------+\n",
      "only showing top 20 rows\n",
      "\n",
      "-------------------------------------------\n",
      "Batch: 2\n",
      "-------------------------------------------\n",
      "+--------------------------+--------------------+--------------------+--------------------+-----+--------------------+\n",
      "|                     title|           title_url|             comment|                user|  bot|       parsedcomment|\n",
      "+--------------------------+--------------------+--------------------+--------------------+-----+--------------------+\n",
      "|      Catégorie:Page co...|https://fr.wikiso...|[[:Page:Maxence V...|              JLTB34|false|<a href=\"/wiki/Pa...|\n",
      "|      Catégorie:Portail...|https://fr.wikipe...|[[:Liste des égli...|             Athozus|false|<a href=\"/wiki/Li...|\n",
      "|                  Q5506943|https://www.wikid...|/* wbsetsitelink-...|2001:1708:5A00:62...|false|‎<span dir=\"auto\"...|\n",
      "|                Q117331374|https://www.wikid...|/* wbeditentity-u...|            Escarbot| true|‎<span dir=\"auto\"...|\n",
      "|      Catégorie:Portail...|https://fr.wikipe...|[[:Liste des égli...|             Athozus|false|<a href=\"/wiki/Li...|\n",
      "|      Catégorie:Portail...|https://fr.wikipe...|[[:Liste des égli...|             Athozus|false|<a href=\"/wiki/Li...|\n",
      "|      Category:WikiProj...|https://en.wikipe...|[[:Talk:Zaire Bar...|            SporkBot| true|<a href=\"/wiki/Ta...|\n",
      "|      Category:Prints b...|https://commons.w...|[[:File:Stier met...|            Pelikana|false|<a href=\"/wiki/Fi...|\n",
      "|      Category:Prints b...|https://commons.w...|[[:File:Zingende ...|            Pelikana|false|<a href=\"/wiki/Fi...|\n",
      "|                Q131250830|https://www.wikid...|/* wbsetdescripti...|       Mr.Ibrahembot| true|‏<span dir=\"auto\"...|\n",
      "|      File:Interieur me...|https://commons.w...|Adding [[Category...|            Pelikana|false|Adding <a href=\"/...|\n",
      "|      Катэгорыя:Вікіпед...|https://be.wikipe...|[[:Эдуард Мікалае...|  Чаховіч Уладзіслаў|false|<a href=\"/wiki/%D...|\n",
      "|File:台北-柒串燒屋 (312...|https://commons.w...|/* wbcreateclaim-...|              Lutzto|false|‎<span dir=\"auto\"...|\n",
      "|           کاربر:Stalker p|https://fa.wikipe...|                    |   Mobinetemadipouya|false|                    |\n",
      "|      Катэгорыя:Вікіпед...|https://be.wikipe...|[[:Эдуард Мікалае...|  Чаховіч Уладзіслаў|false|<a href=\"/wiki/%D...|\n",
      "|                Q131250829|https://www.wikid...|/* wbsetdescripti...|       Mr.Ibrahembot| true|‏<span dir=\"auto\"...|\n",
      "|      Катэгорыя:Вікіпед...|https://be.wikipe...|[[:Эдуард Мікалае...|  Чаховіч Уладзіслаў|false|<a href=\"/wiki/%D...|\n",
      "|      File:Fenwick Gate...|https://commons.w...|/* wbeditentity-u...|      BotMultichillT| true|‎<span dir=\"auto\"...|\n",
      "|      Катэгорыя:Дэпутат...|https://be.wikipe...|[[:Эдуард Мікалае...|  Чаховіч Уладзіслаў|false|<a href=\"/wiki/%D...|\n",
      "|      Category:Prints b...|https://commons.w...|[[:File:Interieur...|            Pelikana|false|<a href=\"/wiki/Fi...|\n",
      "+--------------------------+--------------------+--------------------+--------------------+-----+--------------------+\n",
      "only showing top 20 rows\n",
      "\n",
      "-------------------------------------------\n",
      "Batch: 3\n",
      "-------------------------------------------\n",
      "+--------------------+--------------------+--------------------+--------------------+-----+--------------------+\n",
      "|               title|           title_url|             comment|                user|  bot|       parsedcomment|\n",
      "+--------------------+--------------------+--------------------+--------------------+-----+--------------------+\n",
      "|File:West from Wo...|https://commons.w...|/* wbeditentity-u...|         GeographBot| true|‎<span dir=\"auto\"...|\n",
      "|หมวดหมู่:หน้ากำลั...|https://th.wikipe...|ลบ [[:เดอะสโตรกส์...|           JasperBot| true|ลบ <a href=\"/wiki...|\n",
      "|Category:Creative...|https://commons.w...|[[:File:Death rec...|              Earwig|false|<a href=\"/wiki/Fi...|\n",
      "|  Category:CC-BY-4.0|https://commons.w...|[[:File:Death rec...|              Earwig|false|<a href=\"/wiki/Fi...|\n",
      "|Category:Creative...|https://commons.w...|[[:File:Death rec...|              Earwig|false|<a href=\"/wiki/Fi...|\n",
      "|Talk:Zane Taylor ...|https://en.wikipe...|Remove template p...|            SporkBot| true|Remove template p...|\n",
      "|          Q131250826|https://www.wikid...|/* wbsetdescripti...|       Mr.Ibrahembot| true|‏<span dir=\"auto\"...|\n",
      "|           Q87036083|https://www.wikid...|/* wbeditentity-u...|       Twofivesixbot| true|‎<span dir=\"auto\"...|\n",
      "|File:2015 rabin 2...|https://commons.w...|/* wbeditentity-u...|       SchlurcherBot| true|‎<span dir=\"auto\"...|\n",
      "|          Q131251035|https://www.wikid...|/* wbeditentity-c...|              Arpyia|false|‎<span dir=\"auto\"...|\n",
      "|Category:Articles...|https://en.wikipe...|[[:Jim Campbell (...|             Losipov|false|<a href=\"/wiki/Ji...|\n",
      "|File:Rokende man ...|https://commons.w...|Adding [[Category...|            Pelikana|false|Adding <a href=\"/...|\n",
      "|Category:Short de...|https://en.wikipe...|[[:Jim Campbell (...|             Losipov|false|<a href=\"/wiki/Ji...|\n",
      "|Mirella Manso Budiño|https://es.wikipe...|                    |          Niicoramos|false|                    |\n",
      "|             Q157598|https://www.wikid...|/* wbsetqualifier...|            Jobu0101|false|‎<span dir=\"auto\"...|\n",
      "|File:Vuelo del dr...|https://commons.w...|Uploaded own work...|           Luisalvaz|false|Uploaded own work...|\n",
      "|File:Vuelo del dr...|https://commons.w...|Uploaded own work...|           Luisalvaz|false|Uploaded own work...|\n",
      "|Frederick Gordon ...|https://en.wikipe...|/* Military caree...|2A00:23C5:B33C:41...|false|<span class=\"auto...|\n",
      "|           Q85205341|https://www.wikid...|/* wbeditentity-u...|          LogainmBot| true|‎<span dir=\"auto\"...|\n",
      "|Kategorî:Gotarên ...|https://ku.wikipe...|[[:Alîreza jâdîdî...|           Penaber49|false|<a href=\"/wiki/Al...|\n",
      "+--------------------+--------------------+--------------------+--------------------+-----+--------------------+\n",
      "only showing top 20 rows\n",
      "\n",
      "-------------------------------------------\n",
      "Batch: 4\n",
      "-------------------------------------------\n",
      "+--------------------+--------------------+--------------------+------------------+-----+--------------------+\n",
      "|               title|           title_url|             comment|              user|  bot|       parsedcomment|\n",
      "+--------------------+--------------------+--------------------+------------------+-----+--------------------+\n",
      "|File:Rokende man ...|https://commons.w...|Adding [[Category...|          Pelikana|false|Adding <a href=\"/...|\n",
      "|             टासीडिङ|https://ne.wikipe...|Rescuing 1 source...|InternetArchiveBot| true|Rescuing 1 source...|\n",
      "|       Ross Krautman|https://en.wikipe...|−[[Category:Sport...|    Lost in Quebec|false|−<a href=\"/wiki/C...|\n",
      "|Участник:217.142....|https://ru.wikiqu...|{{Blocked proxy}}...|           QBA-bot| true|{{Blocked proxy}}...|\n",
      "|File:Vuelo del dr...|https://commons.w...|/* wbeditentity-u...|         Luisalvaz|false|‎<span dir=\"auto\"...|\n",
      "|         Matej Jovan|https://pl.wikipe...|   /* top */ infobox| Mathieu Mars .bot| true|<span class=\"auto...|\n",
      "|เดอะสไปรัล (นครนิ...|https://th.wikipe...|แทนที่ {lang-??} ...|         JasperBot| true|แทนที่ {lang-??} ...|\n",
      "|          Jerzy Dera|https://pl.wikipe...|   drobne techniczne|             Tufor|false|   drobne techniczne|\n",
      "|    הרפובליקה הרומית|https://he.wikipe...|               תקלדה|            באלדור|false|               תקלדה|\n",
      "|Category:CC-BY-SA...|https://commons.w...|[[:File:Vuelo del...|         Luisalvaz|false|<a href=\"/wiki/Fi...|\n",
      "|Category:Prints b...|https://commons.w...|[[:File:Rokende m...|          Pelikana|false|<a href=\"/wiki/Fi...|\n",
      "|File:Vuelo del dr...|https://commons.w...|/* wbeditentity-u...|         Luisalvaz|false|‎<span dir=\"auto\"...|\n",
      "|Category:Creative...|https://commons.w...|[[:File:Vuelo del...|         Luisalvaz|false|<a href=\"/wiki/Fi...|\n",
      "|Category:Self-pub...|https://commons.w...|[[:File:Vuelo del...|         Luisalvaz|false|<a href=\"/wiki/Fi...|\n",
      "|User:Multichill/S...|https://www.wikid...|Wikidata list upd...|       ListeriaBot| true|Wikidata list upd...|\n",
      "|Category:Prints b...|https://commons.w...|[[:File:Rokende m...|          Pelikana|false|<a href=\"/wiki/Fi...|\n",
      "|Category:Escuela ...|https://commons.w...|[[:File:Vuelo del...|         Luisalvaz|false|<a href=\"/wiki/Fi...|\n",
      "|Category:Terms wi...|https://en.wiktio...|[[:ostalgia]] add...|          Sayoxime|false|<a href=\"/wiki/os...|\n",
      "|          Q131250823|https://www.wikid...|/* wbsetdescripti...|     Mr.Ibrahembot| true|‏<span dir=\"auto\"...|\n",
      "|Category:SNCV/NMV...|https://commons.w...|[[:File:4 NAMUR G...|  PostcardsBelgium|false|<a href=\"/wiki/Fi...|\n",
      "+--------------------+--------------------+--------------------+------------------+-----+--------------------+\n",
      "only showing top 20 rows\n",
      "\n",
      "-------------------------------------------\n",
      "Batch: 5\n",
      "-------------------------------------------\n",
      "+--------------------+--------------------+--------------------+--------------------+-----+--------------------+\n",
      "|               title|           title_url|             comment|                user|  bot|       parsedcomment|\n",
      "+--------------------+--------------------+--------------------+--------------------+-----+--------------------+\n",
      "|             Q157598|https://www.wikid...|/* wbsetqualifier...|            Jobu0101|false|‎<span dir=\"auto\"...|\n",
      "|          Roxy Music|https://en.wikipe...|                    |2A00:23C5:E212:D0...|false|                    |\n",
      "|Участник:217.142....|https://ru.wikiqu...|{{Blocked proxy}}...|             QBA-bot| true|{{Blocked proxy}}...|\n",
      "|Category:Putumayo...|https://commons.w...|[[:File:K Puerto ...|          Boylarva99|false|<a href=\"/wiki/Fi...|\n",
      "|           Q94334233|https://www.wikid...|/* wbeditentity-u...|       Twofivesixbot| true|‎<span dir=\"auto\"...|\n",
      "|File:K Puerto Rod...|https://commons.w...|Moving from [[Cat...|          Boylarva99|false|Moving from <a hr...|\n",
      "|User:MountVic127/RCV|https://en.wikipe...|           Fix flags|        Plastikspork|false|           Fix flags|\n",
      "|File:Figuren voor...|https://commons.w...|Adding [[Category...|            Pelikana|false|Adding <a href=\"/...|\n",
      "|Category:Unidenti...|https://commons.w...|[[:File:K Puerto ...|          Boylarva99|false|<a href=\"/wiki/Fi...|\n",
      "|    Peter Holthausen|https://sv.wikipe...|                    |  F.d. 82.212.68.183|false|                    |\n",
      "+--------------------+--------------------+--------------------+--------------------+-----+--------------------+\n",
      "\n"
     ]
    }
   ],
   "execution_count": 27
  },
  {
   "metadata": {},
   "cell_type": "code",
   "outputs": [],
   "execution_count": null,
   "source": "",
   "id": "1076c6cacc2b622b"
  }
 ],
 "metadata": {
  "kernelspec": {
   "display_name": "Python 3",
   "language": "python",
   "name": "python3"
  },
  "language_info": {
   "codemirror_mode": {
    "name": "ipython",
    "version": 2
   },
   "file_extension": ".py",
   "mimetype": "text/x-python",
   "name": "python",
   "nbconvert_exporter": "python",
   "pygments_lexer": "ipython2",
   "version": "2.7.6"
  }
 },
 "nbformat": 4,
 "nbformat_minor": 5
}
