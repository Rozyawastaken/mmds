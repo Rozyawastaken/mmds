{
 "nbformat": 4,
 "nbformat_minor": 0,
 "metadata": {
  "colab": {
   "provenance": [],
   "gpuType": "T4"
  },
  "kernelspec": {
   "name": "python3",
   "display_name": "Python 3 (ipykernel)",
   "language": "python"
  },
  "language_info": {
   "name": "python"
  },
  "accelerator": "GPU"
 },
 "cells": [
  {
   "metadata": {},
   "cell_type": "markdown",
   "source": "# PySpark Installation for Google Colab"
  },
  {
   "cell_type": "code",
   "source": [
    "!apt-get install openjdk-8-jdk-headless -qq > /dev/null"
   ],
   "metadata": {
    "id": "58p0IGxhLXAi"
   },
   "outputs": [],
   "execution_count": null
  },
  {
   "cell_type": "code",
   "source": [
    "version = \"3.5.3\"\n",
    "!wget https://downloads.apache.org/spark/spark-{version}/spark-{version}-bin-hadoop3.tgz"
   ],
   "metadata": {
    "colab": {
     "base_uri": "https://localhost:8080/"
    },
    "id": "4j0mhca5LYrG",
    "outputId": "2f371335-23b4-4382-e110-7a040b079227"
   },
   "outputs": [],
   "execution_count": null
  },
  {
   "cell_type": "code",
   "source": [
    "!tar xzvf spark-{version}-bin-hadoop3.tgz"
   ],
   "metadata": {
    "colab": {
     "base_uri": "https://localhost:8080/"
    },
    "id": "TN3h7C-ILbBl",
    "outputId": "76d9e44a-e529-4f9c-bdcd-8f42aeec7d92"
   },
   "outputs": [],
   "execution_count": null
  },
  {
   "cell_type": "code",
   "source": "!pip install -q findspark",
   "metadata": {
    "id": "iiPBQcRWLcHn"
   },
   "execution_count": 38,
   "outputs": []
  },
  {
   "cell_type": "code",
   "source": [
    "import os\n",
    "os.environ[\"JAVA_HOME\"] = \"/usr/lib/jvm/java-8-openjdk-amd64\"\n",
    "os.environ[\"SPARK_HOME\"] = f\"/content/spark-{version}-bin-hadoop3\""
   ],
   "metadata": {
    "id": "9takgeBfLfLf"
   },
   "execution_count": 39,
   "outputs": []
  },
  {
   "cell_type": "code",
   "source": [
    "import findspark\n",
    "findspark.init()"
   ],
   "metadata": {
    "id": "JBBvi07SLgvb"
   },
   "execution_count": 40,
   "outputs": []
  },
  {
   "metadata": {},
   "cell_type": "markdown",
   "source": "# Common Imports"
  },
  {
   "cell_type": "code",
   "metadata": {
    "ExecuteTime": {
     "end_time": "2024-11-19T16:22:11.159026Z",
     "start_time": "2024-11-19T16:22:10.326704Z"
    }
   },
   "source": [
    "import pandas as pd \n",
    "import altair as alt\n",
    "from tqdm import tqdm\n",
    "from itertools import product\n",
    "from sklearn.metrics import roc_curve, auc, f1_score, accuracy_score, precision_recall_curve\n",
    "\n",
    "from pyspark.sql import SparkSession, Row\n",
    "from pyspark.sql import functions as F\n",
    "from pyspark.sql.types import IntegerType\n",
    "\n",
    "from pyspark.ml import Pipeline\n",
    "from pyspark.ml.functions import vector_to_array\n",
    "from pyspark.ml.feature import StringIndexer, OneHotEncoder, Tokenizer, StopWordsRemover, HashingTF, IDF, VectorAssembler\n",
    "from pyspark.ml.classification import RandomForestClassifier\n",
    "from pyspark.ml.evaluation import BinaryClassificationEvaluator, MulticlassClassificationEvaluator"
   ],
   "outputs": [],
   "execution_count": 31
  },
  {
   "metadata": {},
   "cell_type": "markdown",
   "source": "# Loading the data and doing some EDA"
  },
  {
   "metadata": {
    "ExecuteTime": {
     "end_time": "2024-11-19T16:08:34.317938Z",
     "start_time": "2024-11-19T16:08:31.627286Z"
    }
   },
   "cell_type": "code",
   "source": [
    "spark = SparkSession.builder.getOrCreate()\n",
    "spark.sparkContext.setLogLevel(\"ERROR\")"
   ],
   "outputs": [
    {
     "name": "stderr",
     "output_type": "stream",
     "text": [
      "24/11/19 18:08:33 WARN Utils: Your hostname, ubuntu-pc resolves to a loopback address: 127.0.1.1; using 192.168.0.104 instead (on interface enp0s31f6)\n",
      "24/11/19 18:08:33 WARN Utils: Set SPARK_LOCAL_IP if you need to bind to another address\n",
      "Setting default log level to \"WARN\".\n",
      "To adjust logging level use sc.setLogLevel(newLevel). For SparkR, use setLogLevel(newLevel).\n",
      "24/11/19 18:08:33 WARN NativeCodeLoader: Unable to load native-hadoop library for your platform... using builtin-java classes where applicable\n"
     ]
    }
   ],
   "execution_count": 2
  },
  {
   "metadata": {
    "ExecuteTime": {
     "end_time": "2024-11-19T16:08:39.668564Z",
     "start_time": "2024-11-19T16:08:35.172243Z"
    }
   },
   "cell_type": "code",
   "source": [
    "# Reading the wiki edits file\n",
    "edits_df = spark.read.json(\"data/edits.json\")\n",
    "print(edits_df.count())\n",
    "edits_df.printSchema()"
   ],
   "outputs": [
    {
     "name": "stderr",
     "output_type": "stream",
     "text": [
      "                                                                                \r"
     ]
    },
    {
     "name": "stdout",
     "output_type": "stream",
     "text": [
      "40000\n",
      "root\n",
      " |-- $schema: string (nullable = true)\n",
      " |-- bot: double (nullable = true)\n",
      " |-- comment: string (nullable = true)\n",
      " |-- id: double (nullable = true)\n",
      " |-- length: struct (nullable = true)\n",
      " |    |-- new: long (nullable = true)\n",
      " |    |-- old: long (nullable = true)\n",
      " |-- log_action: string (nullable = true)\n",
      " |-- log_action_comment: string (nullable = true)\n",
      " |-- log_id: double (nullable = true)\n",
      " |-- log_params: string (nullable = true)\n",
      " |-- log_type: string (nullable = true)\n",
      " |-- meta: struct (nullable = true)\n",
      " |    |-- domain: string (nullable = true)\n",
      " |    |-- dt: string (nullable = true)\n",
      " |    |-- id: string (nullable = true)\n",
      " |    |-- offset: long (nullable = true)\n",
      " |    |-- partition: long (nullable = true)\n",
      " |    |-- request_id: string (nullable = true)\n",
      " |    |-- stream: string (nullable = true)\n",
      " |    |-- topic: string (nullable = true)\n",
      " |    |-- uri: string (nullable = true)\n",
      " |-- minor: double (nullable = true)\n",
      " |-- namespace: double (nullable = true)\n",
      " |-- notify_url: string (nullable = true)\n",
      " |-- parsedcomment: string (nullable = true)\n",
      " |-- patrolled: double (nullable = true)\n",
      " |-- revision: struct (nullable = true)\n",
      " |    |-- new: long (nullable = true)\n",
      " |    |-- old: long (nullable = true)\n",
      " |-- server_name: string (nullable = true)\n",
      " |-- server_script_path: string (nullable = true)\n",
      " |-- server_url: string (nullable = true)\n",
      " |-- timestamp: long (nullable = true)\n",
      " |-- title: string (nullable = true)\n",
      " |-- title_url: string (nullable = true)\n",
      " |-- type: string (nullable = true)\n",
      " |-- user: string (nullable = true)\n",
      " |-- wiki: string (nullable = true)\n",
      "\n"
     ]
    }
   ],
   "execution_count": 3
  },
  {
   "metadata": {
    "ExecuteTime": {
     "end_time": "2024-11-19T16:08:39.715865Z",
     "start_time": "2024-11-19T16:08:39.711591Z"
    }
   },
   "cell_type": "code",
   "source": [
    "@F.udf(returnType=IntegerType())\n",
    "def length_diff_udf(length_col):\n",
    "    \"\"\"Helper UDF to compute length_diff feature\"\"\"\n",
    "    if isinstance(length_col, dict):\n",
    "        return length_col.get('new', 0) - length_col.get('old', 0)\n",
    "    return 0"
   ],
   "outputs": [],
   "execution_count": 4
  },
  {
   "metadata": {
    "ExecuteTime": {
     "end_time": "2024-11-19T19:19:16.959555Z",
     "start_time": "2024-11-19T19:19:16.433884Z"
    }
   },
   "cell_type": "code",
   "source": [
    "df = edits_df.filter(\n",
    "    F.col(\"user\").isNotNull()\n",
    "    & F.col(\"bot\").isNotNull()\n",
    ").select(\n",
    "    F.col(\"user\"),\n",
    "    F.col(\"bot\").cast(\"int\").alias(\"bot\"), # target that we try to predict\n",
    "    F.col(\"type\"),\n",
    "    F.col(\"namespace\").cast(\"int\").alias(\"namespace\"),\n",
    "    F.col(\"comment\"),\n",
    "    F.length(F.col(\"comment\")).alias(\"comment_length\"),\n",
    "    length_diff_udf(F.col(\"length\")).alias(\"length_diff\"),\n",
    ").distinct()\n",
    "print(df.count())\n",
    "df.show(5)"
   ],
   "outputs": [
    {
     "name": "stdout",
     "output_type": "stream",
     "text": [
      "23052\n",
      "+-----------+---+----------+---------+--------------------+--------------+-----------+\n",
      "|       user|bot|      type|namespace|             comment|comment_length|length_diff|\n",
      "+-----------+---+----------+---------+--------------------+--------------+-----------+\n",
      "|Paul August|  0|      edit|        2|   /* Epic poetry */|            17|          0|\n",
      "|        Xqt|  0|       log|        0|                    |             0|          0|\n",
      "|  Holiday56|  0|categorize|       14|[[:File:Letters t...|            88|          0|\n",
      "|     Ontzak|  0|      edit|        2|Añadiendo plantil...|            72|          0|\n",
      "|      Sionk|  0|      edit|        6|removed [[Categor...|            86|          0|\n",
      "+-----------+---+----------+---------+--------------------+--------------+-----------+\n",
      "only showing top 5 rows\n",
      "\n"
     ]
    }
   ],
   "execution_count": 287
  },
  {
   "metadata": {
    "ExecuteTime": {
     "end_time": "2024-11-19T19:19:17.487177Z",
     "start_time": "2024-11-19T19:19:17.023096Z"
    }
   },
   "cell_type": "code",
   "source": [
    "print(\"Total distinct bot users:\", df.filter(F.col(\"bot\") == 1).select(\"user\").distinct().count())\n",
    "print(\"Total distinct human users:\", df.filter(F.col(\"bot\") == 0).select(\"user\").distinct().count())\n",
    "print(\"Total distinct users than are both human and bot:\", df.groupBy(\"user\").agg(F.size(F.collect_set(F.col(\"bot\"))).alias(\"cnt\")).filter(F.col(\"cnt\") > 1).count())"
   ],
   "outputs": [
    {
     "name": "stdout",
     "output_type": "stream",
     "text": [
      "Total distinct bot users: 159\n",
      "Total distinct human users: 4586\n",
      "Total distinct users than are both human and bot: 41\n"
     ]
    }
   ],
   "execution_count": 288
  },
  {
   "metadata": {
    "ExecuteTime": {
     "end_time": "2024-11-19T19:19:17.847994Z",
     "start_time": "2024-11-19T19:19:17.501168Z"
    }
   },
   "cell_type": "code",
   "source": [
    "from pyspark.sql.window import Window\n",
    "\n",
    "w = Window.partitionBy('user').orderBy(F.rand(seed=42))\n",
    "df = df.withColumn('rand_row', F.row_number().over(w))\n",
    "df = df.filter(F.col(\"rand_row\") == 1).drop(\"rand_row\")\n",
    "\n",
    "bot_false = df.filter(F.col(\"bot\") == 0).limit(300)\n",
    "bot_true = df.filter(F.col(\"bot\") == 1)\n",
    "df = bot_false.union(bot_true)\n",
    "\n",
    "df.show(5)"
   ],
   "outputs": [
    {
     "name": "stdout",
     "output_type": "stream",
     "text": [
      "+------------------+---+----------+---------+--------------------+--------------+-----------+\n",
      "|              user|bot|      type|namespace|             comment|comment_length|length_diff|\n",
      "+------------------+---+----------+---------+--------------------+--------------+-----------+\n",
      "|!bbqribsandfish23!|  0|      edit|        0|changed spaces an...|            26|          0|\n",
      "| \"quasi\" tuttologo|  0|      edit|        0|/* Accoglienza */...|            25|          0|\n",
      "|            'Inyan|  0|      edit|        0|/* Genèse 38 chez...|            57|          0|\n",
      "|        (:Julien:)|  0|categorize|       14|[[:Madeleine Niko...|            53|          0|\n",
      "|       *Diwodh₃rós|  0|      edit|        0|deleted unsourced...|            29|          0|\n",
      "+------------------+---+----------+---------+--------------------+--------------+-----------+\n",
      "only showing top 5 rows\n",
      "\n"
     ]
    }
   ],
   "execution_count": 289
  },
  {
   "metadata": {
    "ExecuteTime": {
     "end_time": "2024-11-19T19:19:24.118786Z",
     "start_time": "2024-11-19T19:19:23.241619Z"
    }
   },
   "cell_type": "code",
   "source": [
    "# Train / Test split, roughly 90/10 and not allowing the same user to appear in both parts\n",
    "df = df.withColumn(\"is_test\", F.lit((F.hash(F.col(\"user\")) % 10 == 0))) \n",
    "\n",
    "train_df = df.filter(F.col(\"is_test\") == 0)\n",
    "test_df = df.filter(F.col(\"is_test\") == 1)\n",
    "\n",
    "train_df.show(3)\n",
    "test_df.show(3)"
   ],
   "outputs": [
    {
     "name": "stdout",
     "output_type": "stream",
     "text": [
      "+-----------------+---+----------+---------+--------------------+--------------+-----------+-------+\n",
      "|             user|bot|      type|namespace|             comment|comment_length|length_diff|is_test|\n",
      "+-----------------+---+----------+---------+--------------------+--------------+-----------+-------+\n",
      "|\"quasi\" tuttologo|  0|      edit|        0|/* Accoglienza */...|            25|          0|  false|\n",
      "|           'Inyan|  0|      edit|        0|/* Genèse 38 chez...|            57|          0|  false|\n",
      "|       (:Julien:)|  0|categorize|       14|[[:Madeleine Niko...|            53|          0|  false|\n",
      "+-----------------+---+----------+---------+--------------------+--------------+-----------+-------+\n",
      "only showing top 3 rows\n",
      "\n",
      "+------------------+---+----------+---------+--------------------+--------------+-----------+-------+\n",
      "|              user|bot|      type|namespace|             comment|comment_length|length_diff|is_test|\n",
      "+------------------+---+----------+---------+--------------------+--------------+-----------+-------+\n",
      "|!bbqribsandfish23!|  0|      edit|        0|changed spaces an...|            26|          0|   true|\n",
      "|            097ллл|  0|categorize|       14|[[:Файл:Вокладка ...|            80|          0|   true|\n",
      "|     102.164.97.83|  0|categorize|       14|أزيلت [[:حوض البح...|           129|          0|   true|\n",
      "+------------------+---+----------+---------+--------------------+--------------+-----------+-------+\n",
      "only showing top 3 rows\n",
      "\n"
     ]
    }
   ],
   "execution_count": 291
  },
  {
   "metadata": {
    "ExecuteTime": {
     "end_time": "2024-11-19T19:19:25.049237Z",
     "start_time": "2024-11-19T19:19:24.579180Z"
    }
   },
   "cell_type": "code",
   "source": [
    "# Validating that the same bot doesn't appear in both train and test\n",
    "df.filter(F.col(\"bot\") == 1).groupby(\"user\").agg(F.size(F.collect_set(F.col(\"is_test\"))).alias(\"cnt\")).filter(\"cnt > 1\").show()"
   ],
   "outputs": [
    {
     "name": "stdout",
     "output_type": "stream",
     "text": [
      "+----+---+\n",
      "|user|cnt|\n",
      "+----+---+\n",
      "+----+---+\n",
      "\n"
     ]
    }
   ],
   "execution_count": 292
  },
  {
   "metadata": {
    "ExecuteTime": {
     "end_time": "2024-11-19T19:19:26.741717Z",
     "start_time": "2024-11-19T19:19:25.668085Z"
    }
   },
   "cell_type": "code",
   "source": [
    "# Checking splits\n",
    "df.groupBy(\"is_test\").count().show() # overall train/test split counts\n",
    "df.groupBy(\"bot\", \"is_test\").count().show() # users train/test split counts"
   ],
   "outputs": [
    {
     "name": "stdout",
     "output_type": "stream",
     "text": [
      "+-------+-----+\n",
      "|is_test|count|\n",
      "+-------+-----+\n",
      "|   true|   48|\n",
      "|  false|  385|\n",
      "+-------+-----+\n",
      "\n",
      "+---+-------+-----+\n",
      "|bot|is_test|count|\n",
      "+---+-------+-----+\n",
      "|  0|  false|  265|\n",
      "|  0|   true|   35|\n",
      "|  1|  false|  120|\n",
      "|  1|   true|   13|\n",
      "+---+-------+-----+\n",
      "\n"
     ]
    }
   ],
   "execution_count": 293
  },
  {
   "metadata": {
    "ExecuteTime": {
     "end_time": "2024-11-19T19:19:28.325315Z",
     "start_time": "2024-11-19T19:19:28.322179Z"
    }
   },
   "cell_type": "code",
   "source": [
    "def get_histogram(df):\n",
    "    return alt.Chart(df).mark_bar().encode(\n",
    "        x=alt.X(\"bot:N\", title=\"Bot Flag\", axis=alt.Axis(labelAngle=0)),\n",
    "        y=alt.Y(\"count:Q\", title=\"Count\"),\n",
    "        color=alt.Color(\"bot:N\"),\n",
    "    ).properties(\n",
    "        width=300,\n",
    "        height=300\n",
    "    )"
   ],
   "outputs": [],
   "execution_count": 294
  },
  {
   "metadata": {
    "ExecuteTime": {
     "end_time": "2024-11-19T19:19:28.835139Z",
     "start_time": "2024-11-19T19:19:28.832174Z"
    }
   },
   "cell_type": "code",
   "source": [
    "def get_donut(df):\n",
    "    return alt.Chart(df).mark_arc(innerRadius=50).encode(\n",
    "        theta=alt.Theta(\"count:Q\", title=\"Count\"),\n",
    "        color=alt.Color(\"bot:N\", title=\"Bot Flag\"),\n",
    "        tooltip=[\n",
    "            alt.Tooltip(\"count:Q\", title=\"Count\"),\n",
    "            alt.Tooltip(\"pct:Q\", title=\"Ratio\", format=\"0.2%\")\n",
    "        ]\n",
    "    ).properties(\n",
    "        width=300,\n",
    "        height=300\n",
    "    )"
   ],
   "outputs": [],
   "execution_count": 295
  },
  {
   "metadata": {
    "ExecuteTime": {
     "end_time": "2024-11-19T19:19:29.187172Z",
     "start_time": "2024-11-19T19:19:29.183953Z"
    }
   },
   "cell_type": "code",
   "source": [
    "def plot_user_distributions(df, title):\n",
    "    pd_df = df.groupBy(\"bot\").count().toPandas()\n",
    "    pd_df[\"bot\"] = pd_df[\"bot\"].astype(\"bool\")\n",
    "    pd_df[\"pct\"] = round(pd_df['count'] / pd_df['count'].sum(), 4)\n",
    "    \n",
    "    # Disable Altairs limit of 5000 records\n",
    "    alt.data_transformers.disable_max_rows()\n",
    "    \n",
    "    # Plotting \n",
    "    return (get_histogram(pd_df) | get_donut(pd_df)).properties(\n",
    "        title=alt.Title(\n",
    "            f\"Distribution of users in {title} per bot/human\",\n",
    "            anchor=\"middle\",\n",
    "            fontSize=16\n",
    "        )\n",
    "    )"
   ],
   "outputs": [],
   "execution_count": 296
  },
  {
   "metadata": {
    "ExecuteTime": {
     "end_time": "2024-11-19T19:19:29.821063Z",
     "start_time": "2024-11-19T19:19:29.662065Z"
    }
   },
   "cell_type": "code",
   "source": "plot_user_distributions(edits_df, \"whole edits df\")",
   "outputs": [
    {
     "data": {
      "text/html": [
       "\n",
       "<style>\n",
       "  #altair-viz-0652e05ca01342269b9afa9c917c9795.vega-embed {\n",
       "    width: 100%;\n",
       "    display: flex;\n",
       "  }\n",
       "\n",
       "  #altair-viz-0652e05ca01342269b9afa9c917c9795.vega-embed details,\n",
       "  #altair-viz-0652e05ca01342269b9afa9c917c9795.vega-embed details summary {\n",
       "    position: relative;\n",
       "  }\n",
       "</style>\n",
       "<div id=\"altair-viz-0652e05ca01342269b9afa9c917c9795\"></div>\n",
       "<script type=\"text/javascript\">\n",
       "  var VEGA_DEBUG = (typeof VEGA_DEBUG == \"undefined\") ? {} : VEGA_DEBUG;\n",
       "  (function(spec, embedOpt){\n",
       "    let outputDiv = document.currentScript.previousElementSibling;\n",
       "    if (outputDiv.id !== \"altair-viz-0652e05ca01342269b9afa9c917c9795\") {\n",
       "      outputDiv = document.getElementById(\"altair-viz-0652e05ca01342269b9afa9c917c9795\");\n",
       "    }\n",
       "    const paths = {\n",
       "      \"vega\": \"https://cdn.jsdelivr.net/npm/vega@5?noext\",\n",
       "      \"vega-lib\": \"https://cdn.jsdelivr.net/npm/vega-lib?noext\",\n",
       "      \"vega-lite\": \"https://cdn.jsdelivr.net/npm/vega-lite@5.20.1?noext\",\n",
       "      \"vega-embed\": \"https://cdn.jsdelivr.net/npm/vega-embed@6?noext\",\n",
       "    };\n",
       "\n",
       "    function maybeLoadScript(lib, version) {\n",
       "      var key = `${lib.replace(\"-\", \"\")}_version`;\n",
       "      return (VEGA_DEBUG[key] == version) ?\n",
       "        Promise.resolve(paths[lib]) :\n",
       "        new Promise(function(resolve, reject) {\n",
       "          var s = document.createElement('script');\n",
       "          document.getElementsByTagName(\"head\")[0].appendChild(s);\n",
       "          s.async = true;\n",
       "          s.onload = () => {\n",
       "            VEGA_DEBUG[key] = version;\n",
       "            return resolve(paths[lib]);\n",
       "          };\n",
       "          s.onerror = () => reject(`Error loading script: ${paths[lib]}`);\n",
       "          s.src = paths[lib];\n",
       "        });\n",
       "    }\n",
       "\n",
       "    function showError(err) {\n",
       "      outputDiv.innerHTML = `<div class=\"error\" style=\"color:red;\">${err}</div>`;\n",
       "      throw err;\n",
       "    }\n",
       "\n",
       "    function displayChart(vegaEmbed) {\n",
       "      vegaEmbed(outputDiv, spec, embedOpt)\n",
       "        .catch(err => showError(`Javascript Error: ${err.message}<br>This usually means there's a typo in your chart specification. See the javascript console for the full traceback.`));\n",
       "    }\n",
       "\n",
       "    if(typeof define === \"function\" && define.amd) {\n",
       "      requirejs.config({paths});\n",
       "      require([\"vega-embed\"], displayChart, err => showError(`Error loading script: ${err.message}`));\n",
       "    } else {\n",
       "      maybeLoadScript(\"vega\", \"5\")\n",
       "        .then(() => maybeLoadScript(\"vega-lite\", \"5.20.1\"))\n",
       "        .then(() => maybeLoadScript(\"vega-embed\", \"6\"))\n",
       "        .catch(showError)\n",
       "        .then(() => displayChart(vegaEmbed));\n",
       "    }\n",
       "  })({\"config\": {\"view\": {\"continuousWidth\": 300, \"continuousHeight\": 300}}, \"hconcat\": [{\"mark\": {\"type\": \"bar\"}, \"encoding\": {\"color\": {\"field\": \"bot\", \"type\": \"nominal\"}, \"x\": {\"axis\": {\"labelAngle\": 0}, \"field\": \"bot\", \"title\": \"Bot Flag\", \"type\": \"nominal\"}, \"y\": {\"field\": \"count\", \"title\": \"Count\", \"type\": \"quantitative\"}}, \"height\": 300, \"width\": 300}, {\"mark\": {\"type\": \"arc\", \"innerRadius\": 50}, \"encoding\": {\"color\": {\"field\": \"bot\", \"title\": \"Bot Flag\", \"type\": \"nominal\"}, \"theta\": {\"field\": \"count\", \"title\": \"Count\", \"type\": \"quantitative\"}, \"tooltip\": [{\"field\": \"count\", \"title\": \"Count\", \"type\": \"quantitative\"}, {\"field\": \"pct\", \"format\": \"0.2%\", \"title\": \"Ratio\", \"type\": \"quantitative\"}]}, \"height\": 300, \"width\": 300}], \"data\": {\"name\": \"data-8ec95481974c1f5796073b7ab04cdc53\"}, \"title\": {\"text\": \"Distribution of users in whole edits df per bot/human\", \"anchor\": \"middle\", \"fontSize\": 16}, \"$schema\": \"https://vega.github.io/schema/vega-lite/v5.20.1.json\", \"datasets\": {\"data-8ec95481974c1f5796073b7ab04cdc53\": [{\"bot\": false, \"count\": 26044, \"pct\": 0.6511}, {\"bot\": true, \"count\": 13956, \"pct\": 0.3489}]}}, {\"mode\": \"vega-lite\"});\n",
       "</script>"
      ],
      "text/plain": [
       "alt.HConcatChart(...)"
      ]
     },
     "execution_count": 297,
     "metadata": {},
     "output_type": "execute_result"
    }
   ],
   "execution_count": 297
  },
  {
   "metadata": {
    "ExecuteTime": {
     "end_time": "2024-11-19T19:19:30.666230Z",
     "start_time": "2024-11-19T19:19:30.296774Z"
    }
   },
   "cell_type": "code",
   "source": "plot_user_distributions(df, \"filtered df\")",
   "outputs": [
    {
     "data": {
      "text/html": [
       "\n",
       "<style>\n",
       "  #altair-viz-71576b96e7ba4761a454289640052bb1.vega-embed {\n",
       "    width: 100%;\n",
       "    display: flex;\n",
       "  }\n",
       "\n",
       "  #altair-viz-71576b96e7ba4761a454289640052bb1.vega-embed details,\n",
       "  #altair-viz-71576b96e7ba4761a454289640052bb1.vega-embed details summary {\n",
       "    position: relative;\n",
       "  }\n",
       "</style>\n",
       "<div id=\"altair-viz-71576b96e7ba4761a454289640052bb1\"></div>\n",
       "<script type=\"text/javascript\">\n",
       "  var VEGA_DEBUG = (typeof VEGA_DEBUG == \"undefined\") ? {} : VEGA_DEBUG;\n",
       "  (function(spec, embedOpt){\n",
       "    let outputDiv = document.currentScript.previousElementSibling;\n",
       "    if (outputDiv.id !== \"altair-viz-71576b96e7ba4761a454289640052bb1\") {\n",
       "      outputDiv = document.getElementById(\"altair-viz-71576b96e7ba4761a454289640052bb1\");\n",
       "    }\n",
       "    const paths = {\n",
       "      \"vega\": \"https://cdn.jsdelivr.net/npm/vega@5?noext\",\n",
       "      \"vega-lib\": \"https://cdn.jsdelivr.net/npm/vega-lib?noext\",\n",
       "      \"vega-lite\": \"https://cdn.jsdelivr.net/npm/vega-lite@5.20.1?noext\",\n",
       "      \"vega-embed\": \"https://cdn.jsdelivr.net/npm/vega-embed@6?noext\",\n",
       "    };\n",
       "\n",
       "    function maybeLoadScript(lib, version) {\n",
       "      var key = `${lib.replace(\"-\", \"\")}_version`;\n",
       "      return (VEGA_DEBUG[key] == version) ?\n",
       "        Promise.resolve(paths[lib]) :\n",
       "        new Promise(function(resolve, reject) {\n",
       "          var s = document.createElement('script');\n",
       "          document.getElementsByTagName(\"head\")[0].appendChild(s);\n",
       "          s.async = true;\n",
       "          s.onload = () => {\n",
       "            VEGA_DEBUG[key] = version;\n",
       "            return resolve(paths[lib]);\n",
       "          };\n",
       "          s.onerror = () => reject(`Error loading script: ${paths[lib]}`);\n",
       "          s.src = paths[lib];\n",
       "        });\n",
       "    }\n",
       "\n",
       "    function showError(err) {\n",
       "      outputDiv.innerHTML = `<div class=\"error\" style=\"color:red;\">${err}</div>`;\n",
       "      throw err;\n",
       "    }\n",
       "\n",
       "    function displayChart(vegaEmbed) {\n",
       "      vegaEmbed(outputDiv, spec, embedOpt)\n",
       "        .catch(err => showError(`Javascript Error: ${err.message}<br>This usually means there's a typo in your chart specification. See the javascript console for the full traceback.`));\n",
       "    }\n",
       "\n",
       "    if(typeof define === \"function\" && define.amd) {\n",
       "      requirejs.config({paths});\n",
       "      require([\"vega-embed\"], displayChart, err => showError(`Error loading script: ${err.message}`));\n",
       "    } else {\n",
       "      maybeLoadScript(\"vega\", \"5\")\n",
       "        .then(() => maybeLoadScript(\"vega-lite\", \"5.20.1\"))\n",
       "        .then(() => maybeLoadScript(\"vega-embed\", \"6\"))\n",
       "        .catch(showError)\n",
       "        .then(() => displayChart(vegaEmbed));\n",
       "    }\n",
       "  })({\"config\": {\"view\": {\"continuousWidth\": 300, \"continuousHeight\": 300}}, \"hconcat\": [{\"mark\": {\"type\": \"bar\"}, \"encoding\": {\"color\": {\"field\": \"bot\", \"type\": \"nominal\"}, \"x\": {\"axis\": {\"labelAngle\": 0}, \"field\": \"bot\", \"title\": \"Bot Flag\", \"type\": \"nominal\"}, \"y\": {\"field\": \"count\", \"title\": \"Count\", \"type\": \"quantitative\"}}, \"height\": 300, \"width\": 300}, {\"mark\": {\"type\": \"arc\", \"innerRadius\": 50}, \"encoding\": {\"color\": {\"field\": \"bot\", \"title\": \"Bot Flag\", \"type\": \"nominal\"}, \"theta\": {\"field\": \"count\", \"title\": \"Count\", \"type\": \"quantitative\"}, \"tooltip\": [{\"field\": \"count\", \"title\": \"Count\", \"type\": \"quantitative\"}, {\"field\": \"pct\", \"format\": \"0.2%\", \"title\": \"Ratio\", \"type\": \"quantitative\"}]}, \"height\": 300, \"width\": 300}], \"data\": {\"name\": \"data-4cef0b65e853a89f3edf7d3bbd0d7bb5\"}, \"title\": {\"text\": \"Distribution of users in filtered df per bot/human\", \"anchor\": \"middle\", \"fontSize\": 16}, \"$schema\": \"https://vega.github.io/schema/vega-lite/v5.20.1.json\", \"datasets\": {\"data-4cef0b65e853a89f3edf7d3bbd0d7bb5\": [{\"bot\": false, \"count\": 300, \"pct\": 0.6928}, {\"bot\": true, \"count\": 133, \"pct\": 0.3072}]}}, {\"mode\": \"vega-lite\"});\n",
       "</script>"
      ],
      "text/plain": [
       "alt.HConcatChart(...)"
      ]
     },
     "execution_count": 298,
     "metadata": {},
     "output_type": "execute_result"
    }
   ],
   "execution_count": 298
  },
  {
   "metadata": {},
   "cell_type": "markdown",
   "source": "# Preparing the model"
  },
  {
   "metadata": {
    "ExecuteTime": {
     "end_time": "2024-11-19T19:19:31.982524Z",
     "start_time": "2024-11-19T19:19:31.978422Z"
    }
   },
   "cell_type": "code",
   "source": [
    "def create_pipeline(numFeatures, numTrees, maxDepth):\n",
    "    \"\"\"Returns a pipeline for bot classification on wiki edits, with customizable parameters\"\"\"\n",
    "    \n",
    "    # Encoding 'type' and 'namespace' columns\n",
    "    type_indexer = StringIndexer(inputCol=\"type\", outputCol=\"type_index\", handleInvalid=\"keep\")\n",
    "    namespace_indexer = StringIndexer(inputCol=\"namespace\", outputCol=\"namespace_index\", handleInvalid=\"keep\")\n",
    "    type_encoder = OneHotEncoder(inputCol=\"type_index\", outputCol=\"type_encoded\")\n",
    "    namespace_encoder = OneHotEncoder(inputCol=\"namespace_index\", outputCol=\"namespace_encoded\")\n",
    "    \n",
    "    # TF-IDF on 'comment'\n",
    "    tokenizer = Tokenizer(inputCol=\"comment\", outputCol=\"words\")\n",
    "    stopwords_remover = StopWordsRemover(inputCol=\"words\", outputCol=\"filtered_words\")\n",
    "    hashing_tf = HashingTF(inputCol=\"filtered_words\", outputCol=\"raw_features\", numFeatures=numFeatures)\n",
    "    idf = IDF(inputCol=\"raw_features\", outputCol=\"tfidf_features\")\n",
    "    \n",
    "    # Assembling all features into a single vector\n",
    "    assembler = VectorAssembler(\n",
    "      inputCols=[\"length_diff\", \"comment_length\", \"type_encoded\", \"namespace_encoded\", \"tfidf_features\"],\n",
    "      outputCol=\"features\"\n",
    "    )\n",
    "    \n",
    "    # Defining classifier model\n",
    "    rf = RandomForestClassifier(labelCol=\"bot\", featuresCol=\"features\", seed=42, numTrees=numTrees, maxDepth=maxDepth)\n",
    "    \n",
    "    # Building and returning the pipeline\n",
    "    return Pipeline(stages=[\n",
    "      type_indexer, namespace_indexer,\n",
    "      type_encoder, namespace_encoder,\n",
    "      tokenizer, stopwords_remover, hashing_tf, idf,\n",
    "      assembler, rf\n",
    "    ])"
   ],
   "outputs": [],
   "execution_count": 299
  },
  {
   "metadata": {
    "ExecuteTime": {
     "end_time": "2024-11-19T19:19:32.437976Z",
     "start_time": "2024-11-19T19:19:32.434139Z"
    }
   },
   "cell_type": "code",
   "source": [
    "def fit_predict(train_df, test_df, numFeatures, numTrees, maxDepth, evaluate=True):\n",
    "    \"\"\"\n",
    "        Fits the classifier model on train_df and runs prediction on test_df \n",
    "        returns the model, predictions dataframe evaluation metrics (optionally)\n",
    "    \"\"\"\n",
    "    pipeline = create_pipeline(numFeatures, numTrees, maxDepth)\n",
    "    \n",
    "    model = pipeline.fit(train_df) # training the classifier\n",
    "    predictions = model.transform(test_df) # predicting\n",
    "    \n",
    "    # Evaluating\n",
    "    if not evaluate:\n",
    "        return model, predictions, None\n",
    "    \n",
    "    evaluation_results = {\n",
    "        \"areaUnderROC\": BinaryClassificationEvaluator(labelCol=\"bot\", rawPredictionCol=\"prediction\", metricName=\"areaUnderROC\").evaluate(predictions),\n",
    "        \"areaUnderPR\": BinaryClassificationEvaluator(labelCol=\"bot\", rawPredictionCol=\"prediction\", metricName=\"areaUnderPR\").evaluate(predictions)\n",
    "    }\n",
    "    for metric in (\"f1\", \"accuracy\", \"weightedPrecision\", \"weightedRecall\"):\n",
    "        evaluator = MulticlassClassificationEvaluator(labelCol=\"bot\", predictionCol=\"prediction\", metricName=metric)\n",
    "        evaluation_results[metric] = evaluator.evaluate(predictions)\n",
    "    \n",
    "    return model, predictions, evaluation_results"
   ],
   "outputs": [],
   "execution_count": 300
  },
  {
   "metadata": {
    "ExecuteTime": {
     "end_time": "2024-11-19T19:21:11.511670Z",
     "start_time": "2024-11-19T19:21:11.509185Z"
    }
   },
   "cell_type": "code",
   "source": [
    "# Define parameters grid\n",
    "params = {\n",
    "    \"numFeatures\": [100, 500, 1000],\n",
    "    \"numTrees\": [10, 50, 100],\n",
    "    \"maxDepth\": [5, 10, 20]\n",
    "}"
   ],
   "outputs": [],
   "execution_count": 311
  },
  {
   "metadata": {
    "ExecuteTime": {
     "end_time": "2024-11-19T19:23:57.850187Z",
     "start_time": "2024-11-19T19:21:11.914399Z"
    }
   },
   "cell_type": "code",
   "source": [
    "results = []\n",
    "for numFeatures, numTrees, maxDepth in tqdm(product(params[\"numFeatures\"], params[\"numTrees\"], params[\"maxDepth\"]), \n",
    "                                            total=len(params[\"numFeatures\"]) * len(params[\"numTrees\"]) * len(params[\"maxDepth\"])):\n",
    "        \n",
    "      _, _, res = fit_predict(train_df, test_df, numFeatures, numTrees, maxDepth, evaluate=True)\n",
    "      results.append(Row(\n",
    "          numFeatures=numFeatures, numTrees=numTrees, maxDepth=maxDepth, \n",
    "          f1_score=round(res[\"f1\"], 2), accuracy=round(res[\"accuracy\"], 2), \n",
    "          precision=round(res[\"weightedPrecision\"], 2), recall=round(res[\"weightedRecall\"], 2),\n",
    "          areaUnderROC=round(res[\"areaUnderROC\"], 2), areaUnderPR=round(res[\"areaUnderPR\"], 2)\n",
    "      ))"
   ],
   "outputs": [
    {
     "name": "stderr",
     "output_type": "stream",
     "text": [
      "100%|██████████| 27/27 [02:45<00:00,  6.15s/it]\n"
     ]
    }
   ],
   "execution_count": 312
  },
  {
   "metadata": {
    "ExecuteTime": {
     "end_time": "2024-11-19T19:24:25.521192Z",
     "start_time": "2024-11-19T19:24:25.314075Z"
    }
   },
   "cell_type": "code",
   "source": [
    "# View the grid search results ordered by best f1 score\n",
    "results_df = spark.createDataFrame(results)\n",
    "results_df.orderBy(F.desc(\"f1_score\")).show()"
   ],
   "outputs": [
    {
     "name": "stdout",
     "output_type": "stream",
     "text": [
      "+-----------+--------+--------+--------+--------+---------+------+------------+-----------+\n",
      "|numFeatures|numTrees|maxDepth|f1_score|accuracy|precision|recall|areaUnderROC|areaUnderPR|\n",
      "+-----------+--------+--------+--------+--------+---------+------+------------+-----------+\n",
      "|        100|      10|      10|    0.92|    0.92|     0.92|  0.92|        0.89|        0.8|\n",
      "|        100|     100|       5|    0.89|     0.9|      0.9|   0.9|        0.83|        0.8|\n",
      "|        100|      10|      20|    0.88|    0.88|     0.88|  0.88|        0.87|        0.7|\n",
      "|        100|      50|       5|    0.87|    0.88|     0.88|  0.88|        0.79|       0.77|\n",
      "|        500|      10|      20|    0.87|    0.88|     0.87|  0.88|        0.82|       0.73|\n",
      "|        100|      50|      10|    0.87|    0.88|     0.87|  0.88|        0.82|       0.73|\n",
      "|        100|      50|      20|    0.87|    0.88|     0.87|  0.88|        0.82|       0.73|\n",
      "|        100|     100|      20|    0.86|    0.85|     0.86|  0.85|        0.83|       0.66|\n",
      "|       1000|      10|      20|    0.85|    0.85|     0.85|  0.85|        0.78|        0.7|\n",
      "|        100|     100|      10|    0.85|    0.85|     0.85|  0.85|         0.8|       0.68|\n",
      "|       1000|     100|      20|    0.85|    0.85|     0.85|  0.85|        0.78|        0.7|\n",
      "|        500|     100|      10|    0.85|    0.85|     0.85|  0.85|        0.78|        0.7|\n",
      "|       1000|      10|      10|    0.83|    0.85|     0.88|  0.85|        0.73|        0.8|\n",
      "|       1000|      50|      10|    0.83|    0.85|     0.88|  0.85|        0.73|        0.8|\n",
      "|        500|      50|      20|    0.83|    0.83|     0.83|  0.83|        0.76|       0.64|\n",
      "|       1000|      50|      20|    0.83|    0.83|     0.83|  0.83|        0.76|       0.64|\n",
      "|        100|      10|       5|    0.83|    0.85|     0.88|  0.85|        0.73|        0.8|\n",
      "|        500|     100|      20|    0.83|    0.83|     0.83|  0.83|        0.76|       0.64|\n",
      "|        500|      50|      10|    0.82|    0.83|     0.83|  0.83|        0.74|       0.66|\n",
      "|       1000|     100|      10|     0.8|    0.81|      0.8|  0.81|         0.7|       0.62|\n",
      "+-----------+--------+--------+--------+--------+---------+------+------------+-----------+\n",
      "only showing top 20 rows\n",
      "\n"
     ]
    }
   ],
   "execution_count": 313
  },
  {
   "metadata": {},
   "cell_type": "markdown",
   "source": [
    "---\n",
    "\n",
    "# Further evaluation of the best model"
   ]
  },
  {
   "metadata": {
    "ExecuteTime": {
     "end_time": "2024-11-19T19:24:50.728768Z",
     "start_time": "2024-11-19T19:24:50.658418Z"
    }
   },
   "cell_type": "code",
   "source": [
    "# Obtain parameters of the best model\n",
    "best_result = results_df.orderBy(F.desc(\"f1_score\")).first()\n",
    "bestNumFeatures, bestNumTrees, bestMaxDepth = best_result.numFeatures, best_result.numTrees, best_result.maxDepth"
   ],
   "outputs": [],
   "execution_count": 314
  },
  {
   "metadata": {
    "ExecuteTime": {
     "end_time": "2024-11-19T19:24:57.362374Z",
     "start_time": "2024-11-19T19:24:53.086559Z"
    }
   },
   "cell_type": "code",
   "source": [
    "# Get predictions of the best model\n",
    "best_model, best_preds_df, _ = fit_predict(train_df, test_df, bestNumFeatures, bestNumTrees, bestMaxDepth, evaluate=False)"
   ],
   "outputs": [],
   "execution_count": 315
  },
  {
   "metadata": {
    "ExecuteTime": {
     "end_time": "2024-11-19T19:25:07.263608Z",
     "start_time": "2024-11-19T19:25:06.836141Z"
    }
   },
   "cell_type": "code",
   "source": [
    "best_preds_df = best_preds_df.select(\n",
    "    \"user\", \"bot\", \"prediction\",\n",
    "    F.round(vector_to_array(F.col(\"probability\"))[0], 3).alias(f\"prob0\"),\n",
    "    F.round(vector_to_array(F.col(\"probability\"))[1], 3).alias(f\"prob1\"),\n",
    ")\n",
    "best_preds_df.show(5, truncate=False)"
   ],
   "outputs": [
    {
     "name": "stdout",
     "output_type": "stream",
     "text": [
      "+------------------+---+----------+-----+-----+\n",
      "|user              |bot|prediction|prob0|prob1|\n",
      "+------------------+---+----------+-----+-----+\n",
      "|!bbqribsandfish23!|0  |0.0       |0.756|0.244|\n",
      "|097ллл            |0  |0.0       |0.559|0.441|\n",
      "|102.164.97.83     |0  |0.0       |0.568|0.432|\n",
      "|102.78.106.233    |0  |1.0       |0.49 |0.51 |\n",
      "|103.171.82.229    |0  |0.0       |0.553|0.447|\n",
      "+------------------+---+----------+-----+-----+\n",
      "only showing top 5 rows\n",
      "\n"
     ]
    }
   ],
   "execution_count": 316
  },
  {
   "metadata": {
    "ExecuteTime": {
     "end_time": "2024-11-19T19:25:08.058519Z",
     "start_time": "2024-11-19T19:25:08.053631Z"
    }
   },
   "cell_type": "code",
   "source": [
    "def get_roc_chart(y_true, y_score):\n",
    "    # Compute ROC curve and ROC area\n",
    "    fpr, tpr, thresholds = roc_curve(y_true, y_score)\n",
    "    roc_auc = auc(fpr, tpr)\n",
    "    \n",
    "    # Calculate accuracy and F1 score for each threshold\n",
    "    accuracy = []\n",
    "    f1 = []\n",
    "    \n",
    "    for threshold in thresholds:\n",
    "        y_pred = (y_score >= threshold).astype(int)\n",
    "        accuracy.append(accuracy_score(y_true, y_pred))\n",
    "        f1.append(f1_score(y_true, y_pred, average=\"weighted\"))\n",
    "    \n",
    "    # Create a DataFrame for Altair\n",
    "    roc_df = pd.DataFrame({\n",
    "        'False Positive Rate': fpr,\n",
    "        'True Positive Rate': tpr,\n",
    "        'Threshold': thresholds,\n",
    "        'Accuracy': accuracy,\n",
    "        'F1 Score': f1\n",
    "    })\n",
    "        \n",
    "    # Create the ROC curve plot with tooltips\n",
    "    roc_chart = alt.Chart(roc_df).mark_line().encode(\n",
    "        x=alt.X('False Positive Rate', type=\"quantitative\", title=\"False Positive Rate\"),\n",
    "        y=alt.Y('True Positive Rate', type=\"quantitative\", title=\"True Positive Rate\"),\n",
    "        tooltip=[\n",
    "            'False Positive Rate:Q',\n",
    "            'True Positive Rate:Q',\n",
    "            'Threshold:Q',\n",
    "            'Accuracy:Q',\n",
    "            'F1 Score:Q'\n",
    "        ],\n",
    "        strokeWidth=alt.value(2),\n",
    "    ).properties(\n",
    "        title=f'ROC curve, AUC = {roc_auc:.2f}',\n",
    "        width=400,\n",
    "        height=400\n",
    "    )\n",
    "    \n",
    "    # Add diagonal line\n",
    "    diagonal = alt.Chart(pd.DataFrame({'x': [0, 1], 'y': [0, 1]})).mark_line(color='gray', strokeDash=[5, 5]).encode(\n",
    "        x='x:Q',\n",
    "        y='y:Q'\n",
    "    )\n",
    "    \n",
    "    return roc_chart + diagonal"
   ],
   "outputs": [],
   "execution_count": 317
  },
  {
   "metadata": {
    "ExecuteTime": {
     "end_time": "2024-11-19T19:25:08.847868Z",
     "start_time": "2024-11-19T19:25:08.843283Z"
    }
   },
   "cell_type": "code",
   "source": [
    "def get_pr_chart(y_true, y_score):\n",
    "    # Compute Precision-Recall curve and PR area\n",
    "    precision, recall, pr_thresholds = precision_recall_curve(y_true, y_score)\n",
    "    pr_auc = auc(recall, precision)\n",
    "    \n",
    "    # Compute F1 Score for each threshold in PR\n",
    "    f1_scores_pr = [f1_score(y_true, (y_score >= t).astype(int), average=\"weighted\") for t in pr_thresholds]\n",
    "    # Compute accuracy for each threshold in PR\n",
    "    accuracies_pr = [accuracy_score(y_true, (y_score >= t).astype(int)) for t in pr_thresholds]\n",
    "\n",
    "    # Create a DataFrame for PR Curve\n",
    "    pr_df = pd.DataFrame({\n",
    "        'Precision': precision[:-1],  # Exclude last precision value (undefined)\n",
    "        'Recall': recall[:-1],        # Exclude last recall value (undefined)\n",
    "        'Threshold': pr_thresholds,\n",
    "        'F1 Score': f1_scores_pr,\n",
    "        'Accuracy': accuracies_pr\n",
    "    })\n",
    "    \n",
    "    # Create PR curve plot with tooltips\n",
    "    pr_chart = alt.Chart(pr_df).mark_line().encode(\n",
    "        x=alt.X('Recall', type=\"quantitative\", title=\"Recall\"),\n",
    "        y=alt.Y('Precision', type=\"quantitative\", title=\"Precision\"),\n",
    "        tooltip=[\n",
    "            'Recall:Q',\n",
    "            'Precision:Q',\n",
    "            'Threshold:Q',\n",
    "            'F1 Score:Q',\n",
    "            'Accuracy:Q'\n",
    "        ],\n",
    "        strokeWidth=alt.value(2)\n",
    "    ).properties(\n",
    "        title=f'Precision-Recall Curve,  AUC = {pr_auc:.2f}',\n",
    "        width=400,\n",
    "        height=400\n",
    "    )\n",
    "    \n",
    "    # Add diagonal line\n",
    "    diagonal = alt.Chart(pd.DataFrame({'x': [0,  1], 'y': [1, 0]})).mark_line(color='gray', strokeDash=[5, 5]).encode(\n",
    "        x='x:Q',\n",
    "        y='y:Q'\n",
    "    )\n",
    "    \n",
    "    return pr_chart + diagonal"
   ],
   "outputs": [],
   "execution_count": 318
  },
  {
   "metadata": {
    "ExecuteTime": {
     "end_time": "2024-11-19T19:25:09.255765Z",
     "start_time": "2024-11-19T19:25:09.252786Z"
    }
   },
   "cell_type": "code",
   "source": [
    "def evaluate_per_threshold(df):\n",
    "    \"\"\"Plot ROC and PR curves and evaluate at each threshold\"\"\"\n",
    "    \n",
    "    # Extract true labels and predicted probabilities\n",
    "    pd_df = df.toPandas()\n",
    "    y_true = pd_df[\"bot\"].values\n",
    "    y_score = pd_df[\"prob1\"].values\n",
    "    \n",
    "    # Get ROC and PR curve charts\n",
    "    roc_chart = get_roc_chart(y_true, y_score)\n",
    "    pr_chart = get_pr_chart(y_true, y_score)\n",
    "    \n",
    "    # Plotting\n",
    "    return (\n",
    "        roc_chart \n",
    "        | pr_chart\n",
    "    ).properties(\n",
    "        title=alt.Title(\n",
    "            f\"ROC and PR curves of best model with numFeatures={bestNumFeatures}, numTrees={bestNumTrees}, maxDepth={bestMaxDepth}\",\n",
    "            anchor=\"middle\",\n",
    "            fontSize=16\n",
    "        )\n",
    "    )"
   ],
   "outputs": [],
   "execution_count": 319
  },
  {
   "metadata": {
    "ExecuteTime": {
     "end_time": "2024-11-19T19:25:10.683004Z",
     "start_time": "2024-11-19T19:25:09.865620Z"
    }
   },
   "cell_type": "code",
   "source": "evaluate_per_threshold(best_preds_df)",
   "outputs": [
    {
     "data": {
      "text/html": [
       "\n",
       "<style>\n",
       "  #altair-viz-47f0d0ca73774cdfb7785b5508c3bfbc.vega-embed {\n",
       "    width: 100%;\n",
       "    display: flex;\n",
       "  }\n",
       "\n",
       "  #altair-viz-47f0d0ca73774cdfb7785b5508c3bfbc.vega-embed details,\n",
       "  #altair-viz-47f0d0ca73774cdfb7785b5508c3bfbc.vega-embed details summary {\n",
       "    position: relative;\n",
       "  }\n",
       "</style>\n",
       "<div id=\"altair-viz-47f0d0ca73774cdfb7785b5508c3bfbc\"></div>\n",
       "<script type=\"text/javascript\">\n",
       "  var VEGA_DEBUG = (typeof VEGA_DEBUG == \"undefined\") ? {} : VEGA_DEBUG;\n",
       "  (function(spec, embedOpt){\n",
       "    let outputDiv = document.currentScript.previousElementSibling;\n",
       "    if (outputDiv.id !== \"altair-viz-47f0d0ca73774cdfb7785b5508c3bfbc\") {\n",
       "      outputDiv = document.getElementById(\"altair-viz-47f0d0ca73774cdfb7785b5508c3bfbc\");\n",
       "    }\n",
       "    const paths = {\n",
       "      \"vega\": \"https://cdn.jsdelivr.net/npm/vega@5?noext\",\n",
       "      \"vega-lib\": \"https://cdn.jsdelivr.net/npm/vega-lib?noext\",\n",
       "      \"vega-lite\": \"https://cdn.jsdelivr.net/npm/vega-lite@5.20.1?noext\",\n",
       "      \"vega-embed\": \"https://cdn.jsdelivr.net/npm/vega-embed@6?noext\",\n",
       "    };\n",
       "\n",
       "    function maybeLoadScript(lib, version) {\n",
       "      var key = `${lib.replace(\"-\", \"\")}_version`;\n",
       "      return (VEGA_DEBUG[key] == version) ?\n",
       "        Promise.resolve(paths[lib]) :\n",
       "        new Promise(function(resolve, reject) {\n",
       "          var s = document.createElement('script');\n",
       "          document.getElementsByTagName(\"head\")[0].appendChild(s);\n",
       "          s.async = true;\n",
       "          s.onload = () => {\n",
       "            VEGA_DEBUG[key] = version;\n",
       "            return resolve(paths[lib]);\n",
       "          };\n",
       "          s.onerror = () => reject(`Error loading script: ${paths[lib]}`);\n",
       "          s.src = paths[lib];\n",
       "        });\n",
       "    }\n",
       "\n",
       "    function showError(err) {\n",
       "      outputDiv.innerHTML = `<div class=\"error\" style=\"color:red;\">${err}</div>`;\n",
       "      throw err;\n",
       "    }\n",
       "\n",
       "    function displayChart(vegaEmbed) {\n",
       "      vegaEmbed(outputDiv, spec, embedOpt)\n",
       "        .catch(err => showError(`Javascript Error: ${err.message}<br>This usually means there's a typo in your chart specification. See the javascript console for the full traceback.`));\n",
       "    }\n",
       "\n",
       "    if(typeof define === \"function\" && define.amd) {\n",
       "      requirejs.config({paths});\n",
       "      require([\"vega-embed\"], displayChart, err => showError(`Error loading script: ${err.message}`));\n",
       "    } else {\n",
       "      maybeLoadScript(\"vega\", \"5\")\n",
       "        .then(() => maybeLoadScript(\"vega-lite\", \"5.20.1\"))\n",
       "        .then(() => maybeLoadScript(\"vega-embed\", \"6\"))\n",
       "        .catch(showError)\n",
       "        .then(() => displayChart(vegaEmbed));\n",
       "    }\n",
       "  })({\"config\": {\"view\": {\"continuousWidth\": 300, \"continuousHeight\": 300}}, \"hconcat\": [{\"layer\": [{\"data\": {\"name\": \"data-eb1fca3ed78a205ce38b7d6119fd24f5\"}, \"mark\": {\"type\": \"line\"}, \"encoding\": {\"strokeWidth\": {\"value\": 2}, \"tooltip\": [{\"field\": \"False Positive Rate\", \"type\": \"quantitative\"}, {\"field\": \"True Positive Rate\", \"type\": \"quantitative\"}, {\"field\": \"Threshold\", \"type\": \"quantitative\"}, {\"field\": \"Accuracy\", \"type\": \"quantitative\"}, {\"field\": \"F1 Score\", \"type\": \"quantitative\"}], \"x\": {\"field\": \"False Positive Rate\", \"title\": \"False Positive Rate\", \"type\": \"quantitative\"}, \"y\": {\"field\": \"True Positive Rate\", \"title\": \"True Positive Rate\", \"type\": \"quantitative\"}}, \"title\": \"ROC curve, AUC = 0.96\"}, {\"data\": {\"name\": \"data-42f50405073b2dbe8396db6b7dd2f6be\"}, \"mark\": {\"type\": \"line\", \"color\": \"gray\", \"strokeDash\": [5, 5]}, \"encoding\": {\"x\": {\"field\": \"x\", \"type\": \"quantitative\"}, \"y\": {\"field\": \"y\", \"type\": \"quantitative\"}}}], \"height\": 400, \"width\": 400}, {\"layer\": [{\"data\": {\"name\": \"data-b98a06fe5828989b0f124c936b16b965\"}, \"mark\": {\"type\": \"line\"}, \"encoding\": {\"strokeWidth\": {\"value\": 2}, \"tooltip\": [{\"field\": \"Recall\", \"type\": \"quantitative\"}, {\"field\": \"Precision\", \"type\": \"quantitative\"}, {\"field\": \"Threshold\", \"type\": \"quantitative\"}, {\"field\": \"F1 Score\", \"type\": \"quantitative\"}, {\"field\": \"Accuracy\", \"type\": \"quantitative\"}], \"x\": {\"field\": \"Recall\", \"title\": \"Recall\", \"type\": \"quantitative\"}, \"y\": {\"field\": \"Precision\", \"title\": \"Precision\", \"type\": \"quantitative\"}}, \"title\": \"Precision-Recall Curve,  AUC = 0.93\"}, {\"data\": {\"name\": \"data-6f6501bcf19ef5ddfb794029ba7800cd\"}, \"mark\": {\"type\": \"line\", \"color\": \"gray\", \"strokeDash\": [5, 5]}, \"encoding\": {\"x\": {\"field\": \"x\", \"type\": \"quantitative\"}, \"y\": {\"field\": \"y\", \"type\": \"quantitative\"}}}], \"height\": 400, \"width\": 400}], \"title\": {\"text\": \"ROC and PR curves of best model with numFeatures=100, numTrees=10, maxDepth=10\", \"anchor\": \"middle\", \"fontSize\": 16}, \"$schema\": \"https://vega.github.io/schema/vega-lite/v5.20.1.json\", \"datasets\": {\"data-eb1fca3ed78a205ce38b7d6119fd24f5\": [{\"False Positive Rate\": 0.0, \"True Positive Rate\": 0.0, \"Threshold\": null, \"Accuracy\": 0.7291666666666666, \"F1 Score\": 0.6149598393574297}, {\"False Positive Rate\": 0.0, \"True Positive Rate\": 0.07692307692307693, \"Threshold\": 0.986, \"Accuracy\": 0.75, \"F1 Score\": 0.6611498257839722}, {\"False Positive Rate\": 0.0, \"True Positive Rate\": 0.7692307692307693, \"Threshold\": 0.572, \"Accuracy\": 0.9375, \"F1 Score\": 0.9347081596188206}, {\"False Positive Rate\": 0.05714285714285714, \"True Positive Rate\": 0.7692307692307693, \"Threshold\": 0.51, \"Accuracy\": 0.8958333333333334, \"F1 Score\": 0.8944835680751173}, {\"False Positive Rate\": 0.05714285714285714, \"True Positive Rate\": 0.8461538461538461, \"Threshold\": 0.503, \"Accuracy\": 0.9166666666666666, \"F1 Score\": 0.9166666666666666}, {\"False Positive Rate\": 0.08571428571428572, \"True Positive Rate\": 0.8461538461538461, \"Threshold\": 0.489, \"Accuracy\": 0.8958333333333334, \"F1 Score\": 0.897007514761138}, {\"False Positive Rate\": 0.14285714285714285, \"True Positive Rate\": 0.8461538461538461, \"Threshold\": 0.447, \"Accuracy\": 0.8541666666666666, \"F1 Score\": 0.8584448447418082}, {\"False Positive Rate\": 0.17142857142857143, \"True Positive Rate\": 0.8461538461538461, \"Threshold\": 0.441, \"Accuracy\": 0.8333333333333334, \"F1 Score\": 0.8393939393939394}, {\"False Positive Rate\": 0.17142857142857143, \"True Positive Rate\": 0.9230769230769231, \"Threshold\": 0.436, \"Accuracy\": 0.8541666666666666, \"F1 Score\": 0.8603184449958644}, {\"False Positive Rate\": 0.2571428571428571, \"True Positive Rate\": 0.9230769230769231, \"Threshold\": 0.42, \"Accuracy\": 0.7916666666666666, \"F1 Score\": 0.8027356103731815}, {\"False Positive Rate\": 0.2571428571428571, \"True Positive Rate\": 1.0, \"Threshold\": 0.332, \"Accuracy\": 0.8125, \"F1 Score\": 0.8227751756440281}, {\"False Positive Rate\": 0.4857142857142857, \"True Positive Rate\": 1.0, \"Threshold\": 0.068, \"Accuracy\": 0.6458333333333334, \"F1 Score\": 0.659042708790405}, {\"False Positive Rate\": 0.6, \"True Positive Rate\": 1.0, \"Threshold\": 0.064, \"Accuracy\": 0.5625, \"F1 Score\": 0.5664893617021277}, {\"False Positive Rate\": 1.0, \"True Positive Rate\": 1.0, \"Threshold\": 0.032, \"Accuracy\": 0.2708333333333333, \"F1 Score\": 0.11543715846994534}], \"data-42f50405073b2dbe8396db6b7dd2f6be\": [{\"x\": 0, \"y\": 0}, {\"x\": 1, \"y\": 1}], \"data-b98a06fe5828989b0f124c936b16b965\": [{\"Precision\": 0.2708333333333333, \"Recall\": 1.0, \"Threshold\": 0.032, \"F1 Score\": 0.11543715846994534, \"Accuracy\": 0.2708333333333333}, {\"Precision\": 0.3170731707317073, \"Recall\": 1.0, \"Threshold\": 0.051, \"F1 Score\": 0.37345679012345673, \"Accuracy\": 0.4166666666666667}, {\"Precision\": 0.38235294117647056, \"Recall\": 1.0, \"Threshold\": 0.064, \"F1 Score\": 0.5664893617021277, \"Accuracy\": 0.5625}, {\"Precision\": 0.43333333333333335, \"Recall\": 1.0, \"Threshold\": 0.068, \"F1 Score\": 0.659042708790405, \"Accuracy\": 0.6458333333333334}, {\"Precision\": 0.4482758620689655, \"Recall\": 1.0, \"Threshold\": 0.099, \"F1 Score\": 0.6807760141093474, \"Accuracy\": 0.6666666666666666}, {\"Precision\": 0.4642857142857143, \"Recall\": 1.0, \"Threshold\": 0.126, \"F1 Score\": 0.7020509977827052, \"Accuracy\": 0.6875}, {\"Precision\": 0.48148148148148145, \"Recall\": 1.0, \"Threshold\": 0.146, \"F1 Score\": 0.7229166666666668, \"Accuracy\": 0.7083333333333334}, {\"Precision\": 0.5, \"Recall\": 1.0, \"Threshold\": 0.191, \"F1 Score\": 0.7434210526315789, \"Accuracy\": 0.7291666666666666}, {\"Precision\": 0.52, \"Recall\": 1.0, \"Threshold\": 0.244, \"F1 Score\": 0.7636116152450091, \"Accuracy\": 0.75}, {\"Precision\": 0.5416666666666666, \"Recall\": 1.0, \"Threshold\": 0.274, \"F1 Score\": 0.7835356542983662, \"Accuracy\": 0.7708333333333334}, {\"Precision\": 0.5652173913043478, \"Recall\": 1.0, \"Threshold\": 0.278, \"F1 Score\": 0.8032407407407408, \"Accuracy\": 0.7916666666666666}, {\"Precision\": 0.5909090909090909, \"Recall\": 1.0, \"Threshold\": 0.332, \"F1 Score\": 0.8227751756440281, \"Accuracy\": 0.8125}, {\"Precision\": 0.5714285714285714, \"Recall\": 0.9230769230769231, \"Threshold\": 0.42, \"F1 Score\": 0.8027356103731815, \"Accuracy\": 0.7916666666666666}, {\"Precision\": 0.6, \"Recall\": 0.9230769230769231, \"Threshold\": 0.429, \"F1 Score\": 0.8219696969696969, \"Accuracy\": 0.8125}, {\"Precision\": 0.631578947368421, \"Recall\": 0.9230769230769231, \"Threshold\": 0.432, \"F1 Score\": 0.8411458333333334, \"Accuracy\": 0.8333333333333334}, {\"Precision\": 0.6666666666666666, \"Recall\": 0.9230769230769231, \"Threshold\": 0.436, \"F1 Score\": 0.8603184449958644, \"Accuracy\": 0.8541666666666666}, {\"Precision\": 0.6470588235294118, \"Recall\": 0.8461538461538461, \"Threshold\": 0.441, \"F1 Score\": 0.8393939393939394, \"Accuracy\": 0.8333333333333334}, {\"Precision\": 0.6875, \"Recall\": 0.8461538461538461, \"Threshold\": 0.447, \"F1 Score\": 0.8584448447418082, \"Accuracy\": 0.8541666666666666}, {\"Precision\": 0.7857142857142857, \"Recall\": 0.8461538461538461, \"Threshold\": 0.489, \"F1 Score\": 0.897007514761138, \"Accuracy\": 0.8958333333333334}, {\"Precision\": 0.8461538461538461, \"Recall\": 0.8461538461538461, \"Threshold\": 0.503, \"F1 Score\": 0.9166666666666666, \"Accuracy\": 0.9166666666666666}, {\"Precision\": 0.8333333333333334, \"Recall\": 0.7692307692307693, \"Threshold\": 0.51, \"F1 Score\": 0.8944835680751173, \"Accuracy\": 0.8958333333333334}, {\"Precision\": 0.9090909090909091, \"Recall\": 0.7692307692307693, \"Threshold\": 0.568, \"F1 Score\": 0.914351851851852, \"Accuracy\": 0.9166666666666666}, {\"Precision\": 1.0, \"Recall\": 0.7692307692307693, \"Threshold\": 0.572, \"F1 Score\": 0.9347081596188206, \"Accuracy\": 0.9375}, {\"Precision\": 1.0, \"Recall\": 0.6923076923076923, \"Threshold\": 0.579, \"F1 Score\": 0.9113431613431612, \"Accuracy\": 0.9166666666666666}, {\"Precision\": 1.0, \"Recall\": 0.6153846153846154, \"Threshold\": 0.585, \"F1 Score\": 0.8869047619047619, \"Accuracy\": 0.8958333333333334}, {\"Precision\": 1.0, \"Recall\": 0.5384615384615384, \"Threshold\": 0.612, \"F1 Score\": 0.8611842105263158, \"Accuracy\": 0.875}, {\"Precision\": 1.0, \"Recall\": 0.46153846153846156, \"Threshold\": 0.662, \"F1 Score\": 0.8339314194577353, \"Accuracy\": 0.8541666666666666}, {\"Precision\": 1.0, \"Recall\": 0.38461538461538464, \"Threshold\": 0.777, \"F1 Score\": 0.8048433048433049, \"Accuracy\": 0.8333333333333334}, {\"Precision\": 1.0, \"Recall\": 0.3076923076923077, \"Threshold\": 0.799, \"F1 Score\": 0.7735480268056589, \"Accuracy\": 0.8125}, {\"Precision\": 1.0, \"Recall\": 0.23076923076923078, \"Threshold\": 0.885, \"F1 Score\": 0.7395833333333334, \"Accuracy\": 0.7916666666666666}, {\"Precision\": 1.0, \"Recall\": 0.15384615384615385, \"Threshold\": 0.919, \"F1 Score\": 0.702366255144033, \"Accuracy\": 0.7708333333333334}, {\"Precision\": 1.0, \"Recall\": 0.07692307692307693, \"Threshold\": 0.986, \"F1 Score\": 0.6611498257839722, \"Accuracy\": 0.75}], \"data-6f6501bcf19ef5ddfb794029ba7800cd\": [{\"x\": 0, \"y\": 1}, {\"x\": 1, \"y\": 0}]}}, {\"mode\": \"vega-lite\"});\n",
       "</script>"
      ],
      "text/plain": [
       "alt.HConcatChart(...)"
      ]
     },
     "execution_count": 320,
     "metadata": {},
     "output_type": "execute_result"
    }
   ],
   "execution_count": 320
  },
  {
   "metadata": {
    "ExecuteTime": {
     "end_time": "2024-11-19T19:25:15.086799Z",
     "start_time": "2024-11-19T19:25:15.029788Z"
    }
   },
   "cell_type": "code",
   "source": [
    "# Binning predicted probabilities\n",
    "bins = [0, 0.1, 0.2, 0.3, 0.4, 0.5, 0.6, 0.7, 0.8, 0.9, 1]\n",
    "best_preds_pd_df = best_preds_df.toPandas()\n",
    "best_preds_pd_df['prob0_bin'] = pd.cut(best_preds_pd_df['prob0'], bins=bins, right=False).astype(str)\n",
    "best_preds_pd_df['prob1_bin'] = pd.cut(best_preds_pd_df['prob1'], bins=bins, right=False).astype(str)\n",
    "best_preds_pd_df.head()[[\"prob0\", \"prob0_bin\", \"prob1\", \"prob1_bin\"]]"
   ],
   "outputs": [
    {
     "data": {
      "text/plain": [
       "   prob0   prob0_bin  prob1   prob1_bin\n",
       "0  0.756  [0.7, 0.8)  0.244  [0.2, 0.3)\n",
       "1  0.559  [0.5, 0.6)  0.441  [0.4, 0.5)\n",
       "2  0.568  [0.5, 0.6)  0.432  [0.4, 0.5)\n",
       "3  0.490  [0.4, 0.5)  0.510  [0.5, 0.6)\n",
       "4  0.553  [0.5, 0.6)  0.447  [0.4, 0.5)"
      ],
      "text/html": [
       "<div>\n",
       "<style scoped>\n",
       "    .dataframe tbody tr th:only-of-type {\n",
       "        vertical-align: middle;\n",
       "    }\n",
       "\n",
       "    .dataframe tbody tr th {\n",
       "        vertical-align: top;\n",
       "    }\n",
       "\n",
       "    .dataframe thead th {\n",
       "        text-align: right;\n",
       "    }\n",
       "</style>\n",
       "<table border=\"1\" class=\"dataframe\">\n",
       "  <thead>\n",
       "    <tr style=\"text-align: right;\">\n",
       "      <th></th>\n",
       "      <th>prob0</th>\n",
       "      <th>prob0_bin</th>\n",
       "      <th>prob1</th>\n",
       "      <th>prob1_bin</th>\n",
       "    </tr>\n",
       "  </thead>\n",
       "  <tbody>\n",
       "    <tr>\n",
       "      <th>0</th>\n",
       "      <td>0.756</td>\n",
       "      <td>[0.7, 0.8)</td>\n",
       "      <td>0.244</td>\n",
       "      <td>[0.2, 0.3)</td>\n",
       "    </tr>\n",
       "    <tr>\n",
       "      <th>1</th>\n",
       "      <td>0.559</td>\n",
       "      <td>[0.5, 0.6)</td>\n",
       "      <td>0.441</td>\n",
       "      <td>[0.4, 0.5)</td>\n",
       "    </tr>\n",
       "    <tr>\n",
       "      <th>2</th>\n",
       "      <td>0.568</td>\n",
       "      <td>[0.5, 0.6)</td>\n",
       "      <td>0.432</td>\n",
       "      <td>[0.4, 0.5)</td>\n",
       "    </tr>\n",
       "    <tr>\n",
       "      <th>3</th>\n",
       "      <td>0.490</td>\n",
       "      <td>[0.4, 0.5)</td>\n",
       "      <td>0.510</td>\n",
       "      <td>[0.5, 0.6)</td>\n",
       "    </tr>\n",
       "    <tr>\n",
       "      <th>4</th>\n",
       "      <td>0.553</td>\n",
       "      <td>[0.5, 0.6)</td>\n",
       "      <td>0.447</td>\n",
       "      <td>[0.4, 0.5)</td>\n",
       "    </tr>\n",
       "  </tbody>\n",
       "</table>\n",
       "</div>"
      ]
     },
     "execution_count": 321,
     "metadata": {},
     "output_type": "execute_result"
    }
   ],
   "execution_count": 321
  },
  {
   "metadata": {
    "ExecuteTime": {
     "end_time": "2024-11-19T19:25:15.601476Z",
     "start_time": "2024-11-19T19:25:15.584149Z"
    }
   },
   "cell_type": "code",
   "source": [
    "# Plotting predicted probabilities distribution, binned\n",
    "\n",
    "# When user is a human (bot = False)\n",
    "prob0 = alt.Chart(best_preds_pd_df).mark_bar().encode(\n",
    "    x=alt.X(\"prob0_bin\", title=\"Accuracy\", type=\"nominal\", axis=alt.Axis(labelAngle=0)),\n",
    "    y=alt.Y(\"count(*)\", type=\"quantitative\", title=\"Count\")\n",
    ").properties(\n",
    "    title=\"User is a human\",\n",
    "    width=500,\n",
    "    height=300\n",
    ")\n",
    "\n",
    "# When user is a bot (bot = True)\n",
    "prob1 = alt.Chart(best_preds_pd_df).mark_bar().encode(\n",
    "    x=alt.X(\"prob1_bin\", title=\"Accuracy\", type=\"nominal\", axis=alt.Axis(labelAngle=0)),\n",
    "    y=alt.Y(\"count(*)\", type=\"quantitative\", title=\"Count\")\n",
    ").properties(\n",
    "    title=\"User is a bot\",\n",
    "    width=500,\n",
    "    height=300\n",
    ")\n",
    "\n",
    "# Plotting\n",
    "(prob0 | prob1).properties(\n",
    "    title=alt.Title(\n",
    "        \"Distribution of binned predicted probabilities for both types of users\",\n",
    "        anchor=\"middle\",\n",
    "        fontSize=20,\n",
    "        fontWeight='bolder'\n",
    "    )\n",
    ")"
   ],
   "outputs": [
    {
     "data": {
      "text/html": [
       "\n",
       "<style>\n",
       "  #altair-viz-74d75ab1d8a04bcb8f5f85b4705dceec.vega-embed {\n",
       "    width: 100%;\n",
       "    display: flex;\n",
       "  }\n",
       "\n",
       "  #altair-viz-74d75ab1d8a04bcb8f5f85b4705dceec.vega-embed details,\n",
       "  #altair-viz-74d75ab1d8a04bcb8f5f85b4705dceec.vega-embed details summary {\n",
       "    position: relative;\n",
       "  }\n",
       "</style>\n",
       "<div id=\"altair-viz-74d75ab1d8a04bcb8f5f85b4705dceec\"></div>\n",
       "<script type=\"text/javascript\">\n",
       "  var VEGA_DEBUG = (typeof VEGA_DEBUG == \"undefined\") ? {} : VEGA_DEBUG;\n",
       "  (function(spec, embedOpt){\n",
       "    let outputDiv = document.currentScript.previousElementSibling;\n",
       "    if (outputDiv.id !== \"altair-viz-74d75ab1d8a04bcb8f5f85b4705dceec\") {\n",
       "      outputDiv = document.getElementById(\"altair-viz-74d75ab1d8a04bcb8f5f85b4705dceec\");\n",
       "    }\n",
       "    const paths = {\n",
       "      \"vega\": \"https://cdn.jsdelivr.net/npm/vega@5?noext\",\n",
       "      \"vega-lib\": \"https://cdn.jsdelivr.net/npm/vega-lib?noext\",\n",
       "      \"vega-lite\": \"https://cdn.jsdelivr.net/npm/vega-lite@5.20.1?noext\",\n",
       "      \"vega-embed\": \"https://cdn.jsdelivr.net/npm/vega-embed@6?noext\",\n",
       "    };\n",
       "\n",
       "    function maybeLoadScript(lib, version) {\n",
       "      var key = `${lib.replace(\"-\", \"\")}_version`;\n",
       "      return (VEGA_DEBUG[key] == version) ?\n",
       "        Promise.resolve(paths[lib]) :\n",
       "        new Promise(function(resolve, reject) {\n",
       "          var s = document.createElement('script');\n",
       "          document.getElementsByTagName(\"head\")[0].appendChild(s);\n",
       "          s.async = true;\n",
       "          s.onload = () => {\n",
       "            VEGA_DEBUG[key] = version;\n",
       "            return resolve(paths[lib]);\n",
       "          };\n",
       "          s.onerror = () => reject(`Error loading script: ${paths[lib]}`);\n",
       "          s.src = paths[lib];\n",
       "        });\n",
       "    }\n",
       "\n",
       "    function showError(err) {\n",
       "      outputDiv.innerHTML = `<div class=\"error\" style=\"color:red;\">${err}</div>`;\n",
       "      throw err;\n",
       "    }\n",
       "\n",
       "    function displayChart(vegaEmbed) {\n",
       "      vegaEmbed(outputDiv, spec, embedOpt)\n",
       "        .catch(err => showError(`Javascript Error: ${err.message}<br>This usually means there's a typo in your chart specification. See the javascript console for the full traceback.`));\n",
       "    }\n",
       "\n",
       "    if(typeof define === \"function\" && define.amd) {\n",
       "      requirejs.config({paths});\n",
       "      require([\"vega-embed\"], displayChart, err => showError(`Error loading script: ${err.message}`));\n",
       "    } else {\n",
       "      maybeLoadScript(\"vega\", \"5\")\n",
       "        .then(() => maybeLoadScript(\"vega-lite\", \"5.20.1\"))\n",
       "        .then(() => maybeLoadScript(\"vega-embed\", \"6\"))\n",
       "        .catch(showError)\n",
       "        .then(() => displayChart(vegaEmbed));\n",
       "    }\n",
       "  })({\"config\": {\"view\": {\"continuousWidth\": 300, \"continuousHeight\": 300}}, \"hconcat\": [{\"mark\": {\"type\": \"bar\"}, \"encoding\": {\"x\": {\"axis\": {\"labelAngle\": 0}, \"field\": \"prob0_bin\", \"title\": \"Accuracy\", \"type\": \"nominal\"}, \"y\": {\"aggregate\": \"count\", \"field\": \"*\", \"title\": \"Count\", \"type\": \"quantitative\"}}, \"height\": 300, \"title\": \"User is a human\", \"width\": 500}, {\"mark\": {\"type\": \"bar\"}, \"encoding\": {\"x\": {\"axis\": {\"labelAngle\": 0}, \"field\": \"prob1_bin\", \"title\": \"Accuracy\", \"type\": \"nominal\"}, \"y\": {\"aggregate\": \"count\", \"field\": \"*\", \"title\": \"Count\", \"type\": \"quantitative\"}}, \"height\": 300, \"title\": \"User is a bot\", \"width\": 500}], \"data\": {\"name\": \"data-dd387dbc2bb3ff53e6cfc73050f60c76\"}, \"title\": {\"text\": \"Distribution of binned predicted probabilities for both types of users\", \"anchor\": \"middle\", \"fontSize\": 20, \"fontWeight\": \"bolder\"}, \"$schema\": \"https://vega.github.io/schema/vega-lite/v5.20.1.json\", \"datasets\": {\"data-dd387dbc2bb3ff53e6cfc73050f60c76\": [{\"user\": \"!bbqribsandfish23!\", \"bot\": 0, \"prediction\": 0.0, \"prob0\": 0.756, \"prob1\": 0.244, \"prob0_bin\": \"[0.7, 0.8)\", \"prob1_bin\": \"[0.2, 0.3)\"}, {\"user\": \"097\\u043b\\u043b\\u043b\", \"bot\": 0, \"prediction\": 0.0, \"prob0\": 0.559, \"prob1\": 0.441, \"prob0_bin\": \"[0.5, 0.6)\", \"prob1_bin\": \"[0.4, 0.5)\"}, {\"user\": \"102.164.97.83\", \"bot\": 0, \"prediction\": 0.0, \"prob0\": 0.568, \"prob1\": 0.432, \"prob0_bin\": \"[0.5, 0.6)\", \"prob1_bin\": \"[0.4, 0.5)\"}, {\"user\": \"102.78.106.233\", \"bot\": 0, \"prediction\": 1.0, \"prob0\": 0.49, \"prob1\": 0.51, \"prob0_bin\": \"[0.4, 0.5)\", \"prob1_bin\": \"[0.5, 0.6)\"}, {\"user\": \"103.171.82.229\", \"bot\": 0, \"prediction\": 0.0, \"prob0\": 0.553, \"prob1\": 0.447, \"prob0_bin\": \"[0.5, 0.6)\", \"prob1_bin\": \"[0.4, 0.5)\"}, {\"user\": \"103.18.78.107\", \"bot\": 0, \"prediction\": 0.0, \"prob0\": 0.968, \"prob1\": 0.032, \"prob0_bin\": \"[0.9, 1.0)\", \"prob1_bin\": \"[0.0, 0.1)\"}, {\"user\": \"108.51.56.162\", \"bot\": 0, \"prediction\": 0.0, \"prob0\": 0.968, \"prob1\": 0.032, \"prob0_bin\": \"[0.9, 1.0)\", \"prob1_bin\": \"[0.0, 0.1)\"}, {\"user\": \"109.60.125.89\", \"bot\": 0, \"prediction\": 0.0, \"prob0\": 0.809, \"prob1\": 0.191, \"prob0_bin\": \"[0.8, 0.9)\", \"prob1_bin\": \"[0.1, 0.2)\"}, {\"user\": \"116.90.206.204\", \"bot\": 0, \"prediction\": 0.0, \"prob0\": 0.874, \"prob1\": 0.126, \"prob0_bin\": \"[0.8, 0.9)\", \"prob1_bin\": \"[0.1, 0.2)\"}, {\"user\": \"117.202.147.98\", \"bot\": 0, \"prediction\": 0.0, \"prob0\": 0.968, \"prob1\": 0.032, \"prob0_bin\": \"[0.9, 1.0)\", \"prob1_bin\": \"[0.0, 0.1)\"}, {\"user\": \"118.127.248.217\", \"bot\": 0, \"prediction\": 0.0, \"prob0\": 0.726, \"prob1\": 0.274, \"prob0_bin\": \"[0.7, 0.8)\", \"prob1_bin\": \"[0.2, 0.3)\"}, {\"user\": \"123.240.107.171\", \"bot\": 0, \"prediction\": 0.0, \"prob0\": 0.968, \"prob1\": 0.032, \"prob0_bin\": \"[0.9, 1.0)\", \"prob1_bin\": \"[0.0, 0.1)\"}, {\"user\": \"14.38.135.191\", \"bot\": 0, \"prediction\": 0.0, \"prob0\": 0.968, \"prob1\": 0.032, \"prob0_bin\": \"[0.9, 1.0)\", \"prob1_bin\": \"[0.0, 0.1)\"}, {\"user\": \"142.68.49.142\", \"bot\": 0, \"prediction\": 0.0, \"prob0\": 0.949, \"prob1\": 0.051, \"prob0_bin\": \"[0.9, 1.0)\", \"prob1_bin\": \"[0.0, 0.1)\"}, {\"user\": \"147.235.209.20\", \"bot\": 0, \"prediction\": 0.0, \"prob0\": 0.553, \"prob1\": 0.447, \"prob0_bin\": \"[0.5, 0.6)\", \"prob1_bin\": \"[0.4, 0.5)\"}, {\"user\": \"151.249.169.216\", \"bot\": 0, \"prediction\": 0.0, \"prob0\": 0.511, \"prob1\": 0.489, \"prob0_bin\": \"[0.5, 0.6)\", \"prob1_bin\": \"[0.4, 0.5)\"}, {\"user\": \"154.246.123.149\", \"bot\": 0, \"prediction\": 1.0, \"prob0\": 0.432, \"prob1\": 0.568, \"prob0_bin\": \"[0.4, 0.5)\", \"prob1_bin\": \"[0.5, 0.6)\"}, {\"user\": \"176.120.190.94\", \"bot\": 0, \"prediction\": 0.0, \"prob0\": 0.901, \"prob1\": 0.099, \"prob0_bin\": \"[0.9, 1.0)\", \"prob1_bin\": \"[0.0, 0.1)\"}, {\"user\": \"176.61.84.125\", \"bot\": 0, \"prediction\": 0.0, \"prob0\": 0.932, \"prob1\": 0.068, \"prob0_bin\": \"[0.9, 1.0)\", \"prob1_bin\": \"[0.0, 0.1)\"}, {\"user\": \"178.141.244.161\", \"bot\": 0, \"prediction\": 0.0, \"prob0\": 0.58, \"prob1\": 0.42, \"prob0_bin\": \"[0.5, 0.6)\", \"prob1_bin\": \"[0.4, 0.5)\"}, {\"user\": \"179.109.143.213\", \"bot\": 0, \"prediction\": 0.0, \"prob0\": 0.936, \"prob1\": 0.064, \"prob0_bin\": \"[0.9, 1.0)\", \"prob1_bin\": \"[0.0, 0.1)\"}, {\"user\": \"185.122.255.89\", \"bot\": 0, \"prediction\": 0.0, \"prob0\": 0.949, \"prob1\": 0.051, \"prob0_bin\": \"[0.9, 1.0)\", \"prob1_bin\": \"[0.0, 0.1)\"}, {\"user\": \"185.215.55.223\", \"bot\": 0, \"prediction\": 0.0, \"prob0\": 0.968, \"prob1\": 0.032, \"prob0_bin\": \"[0.9, 1.0)\", \"prob1_bin\": \"[0.0, 0.1)\"}, {\"user\": \"185.229.219.100\", \"bot\": 0, \"prediction\": 0.0, \"prob0\": 0.854, \"prob1\": 0.146, \"prob0_bin\": \"[0.8, 0.9)\", \"prob1_bin\": \"[0.1, 0.2)\"}, {\"user\": \"187.249.124.39\", \"bot\": 0, \"prediction\": 0.0, \"prob0\": 0.936, \"prob1\": 0.064, \"prob0_bin\": \"[0.9, 1.0)\", \"prob1_bin\": \"[0.0, 0.1)\"}, {\"user\": \"188.217.51.7\", \"bot\": 0, \"prediction\": 0.0, \"prob0\": 0.722, \"prob1\": 0.278, \"prob0_bin\": \"[0.7, 0.8)\", \"prob1_bin\": \"[0.2, 0.3)\"}, {\"user\": \"189.216.190.1\", \"bot\": 0, \"prediction\": 0.0, \"prob0\": 0.949, \"prob1\": 0.051, \"prob0_bin\": \"[0.9, 1.0)\", \"prob1_bin\": \"[0.0, 0.1)\"}, {\"user\": \"190.166.238.234\", \"bot\": 0, \"prediction\": 0.0, \"prob0\": 0.936, \"prob1\": 0.064, \"prob0_bin\": \"[0.9, 1.0)\", \"prob1_bin\": \"[0.0, 0.1)\"}, {\"user\": \"194.39.108.71\", \"bot\": 0, \"prediction\": 0.0, \"prob0\": 0.949, \"prob1\": 0.051, \"prob0_bin\": \"[0.9, 1.0)\", \"prob1_bin\": \"[0.0, 0.1)\"}, {\"user\": \"2.155.149.254\", \"bot\": 0, \"prediction\": 0.0, \"prob0\": 0.968, \"prob1\": 0.032, \"prob0_bin\": \"[0.9, 1.0)\", \"prob1_bin\": \"[0.0, 0.1)\"}, {\"user\": \"2.24.186.58\", \"bot\": 0, \"prediction\": 0.0, \"prob0\": 0.949, \"prob1\": 0.051, \"prob0_bin\": \"[0.9, 1.0)\", \"prob1_bin\": \"[0.0, 0.1)\"}, {\"user\": \"2001:4450:8116:A600:990C:C22:890B:8280\", \"bot\": 0, \"prediction\": 0.0, \"prob0\": 0.949, \"prob1\": 0.051, \"prob0_bin\": \"[0.9, 1.0)\", \"prob1_bin\": \"[0.0, 0.1)\"}, {\"user\": \"2001:448A:7120:FB92:E090:4135:A63:4542\", \"bot\": 0, \"prediction\": 0.0, \"prob0\": 0.936, \"prob1\": 0.064, \"prob0_bin\": \"[0.9, 1.0)\", \"prob1_bin\": \"[0.0, 0.1)\"}, {\"user\": \"2001:8F8:1361:554F:5199:98A7:F111:8C88\", \"bot\": 0, \"prediction\": 0.0, \"prob0\": 0.949, \"prob1\": 0.051, \"prob0_bin\": \"[0.9, 1.0)\", \"prob1_bin\": \"[0.0, 0.1)\"}, {\"user\": \"2001:9E8:2943:EB00:6EB3:11FF:FE52:1BA8\", \"bot\": 0, \"prediction\": 0.0, \"prob0\": 0.571, \"prob1\": 0.429, \"prob0_bin\": \"[0.5, 0.6)\", \"prob1_bin\": \"[0.4, 0.5)\"}, {\"user\": \"AnsterBot\", \"bot\": 1, \"prediction\": 1.0, \"prob0\": 0.428, \"prob1\": 0.572, \"prob0_bin\": \"[0.4, 0.5)\", \"prob1_bin\": \"[0.5, 0.6)\"}, {\"user\": \"DarijaBot\", \"bot\": 1, \"prediction\": 1.0, \"prob0\": 0.388, \"prob1\": 0.612, \"prob0_bin\": \"[0.3, 0.4)\", \"prob1_bin\": \"[0.6, 0.7)\"}, {\"user\": \"DeltaBot\", \"bot\": 1, \"prediction\": 0.0, \"prob0\": 0.668, \"prob1\": 0.332, \"prob0_bin\": \"[0.6, 0.7)\", \"prob1_bin\": \"[0.3, 0.4)\"}, {\"user\": \"Hazard-Bot\", \"bot\": 1, \"prediction\": 1.0, \"prob0\": 0.115, \"prob1\": 0.885, \"prob0_bin\": \"[0.1, 0.2)\", \"prob1_bin\": \"[0.8, 0.9)\"}, {\"user\": \"Huzzlet the bot\", \"bot\": 1, \"prediction\": 1.0, \"prob0\": 0.415, \"prob1\": 0.585, \"prob0_bin\": \"[0.4, 0.5)\", \"prob1_bin\": \"[0.5, 0.6)\"}, {\"user\": \"ImageRemovalBot\", \"bot\": 1, \"prediction\": 0.0, \"prob0\": 0.564, \"prob1\": 0.436, \"prob0_bin\": \"[0.5, 0.6)\", \"prob1_bin\": \"[0.4, 0.5)\"}, {\"user\": \"Krdbot\", \"bot\": 1, \"prediction\": 1.0, \"prob0\": 0.014, \"prob1\": 0.986, \"prob0_bin\": \"[0.0, 0.1)\", \"prob1_bin\": \"[0.9, 1.0)\"}, {\"user\": \"Mathbot\", \"bot\": 1, \"prediction\": 1.0, \"prob0\": 0.081, \"prob1\": 0.919, \"prob0_bin\": \"[0.0, 0.1)\", \"prob1_bin\": \"[0.9, 1.0)\"}, {\"user\": \"MenoBot\", \"bot\": 1, \"prediction\": 1.0, \"prob0\": 0.338, \"prob1\": 0.662, \"prob0_bin\": \"[0.3, 0.4)\", \"prob1_bin\": \"[0.6, 0.7)\"}, {\"user\": \"MszBot\", \"bot\": 1, \"prediction\": 1.0, \"prob0\": 0.497, \"prob1\": 0.503, \"prob0_bin\": \"[0.4, 0.5)\", \"prob1_bin\": \"[0.5, 0.6)\"}, {\"user\": \"MusikBot\", \"bot\": 1, \"prediction\": 1.0, \"prob0\": 0.201, \"prob1\": 0.799, \"prob0_bin\": \"[0.2, 0.3)\", \"prob1_bin\": \"[0.7, 0.8)\"}, {\"user\": \"TenWhile6\", \"bot\": 1, \"prediction\": 1.0, \"prob0\": 0.421, \"prob1\": 0.579, \"prob0_bin\": \"[0.4, 0.5)\", \"prob1_bin\": \"[0.5, 0.6)\"}, {\"user\": \"en>WingerBot\", \"bot\": 1, \"prediction\": 1.0, \"prob0\": 0.223, \"prob1\": 0.777, \"prob0_bin\": \"[0.2, 0.3)\", \"prob1_bin\": \"[0.7, 0.8)\"}]}}, {\"mode\": \"vega-lite\"});\n",
       "</script>"
      ],
      "text/plain": [
       "alt.HConcatChart(...)"
      ]
     },
     "execution_count": 322,
     "metadata": {},
     "output_type": "execute_result"
    }
   ],
   "execution_count": 322
  },
  {
   "metadata": {
    "ExecuteTime": {
     "end_time": "2024-11-19T19:25:16.105736Z",
     "start_time": "2024-11-19T19:25:16.008799Z"
    }
   },
   "cell_type": "code",
   "source": [
    "from sklearn.metrics import confusion_matrix, ConfusionMatrixDisplay\n",
    "cm = confusion_matrix(best_preds_pd_df[\"bot\"], best_preds_pd_df[\"prediction\"])\n",
    "ConfusionMatrixDisplay(confusion_matrix=cm, display_labels=[\"Human\", \"Bot\"]).plot(cmap='Blues')"
   ],
   "outputs": [
    {
     "data": {
      "text/plain": [
       "<sklearn.metrics._plot.confusion_matrix.ConfusionMatrixDisplay at 0x7fd3c79847f0>"
      ]
     },
     "execution_count": 323,
     "metadata": {},
     "output_type": "execute_result"
    },
    {
     "data": {
      "text/plain": [
       "<Figure size 640x480 with 2 Axes>"
      ],
      "image/png": "[encoded data removed]"
     },
     "metadata": {},
     "output_type": "display_data"
    }
   ],
   "execution_count": 323
  },
  {
   "cell_type": "code",
   "source": [
    "# Saving the model\n",
    "best_model.write().overwrite().save(\"/home/ubuntu/PycharmProjects/mmds/model\")"
   ],
   "metadata": {
    "id": "-3uf-gYsLj25",
    "ExecuteTime": {
     "end_time": "2024-11-19T19:26:16.202674Z",
     "start_time": "2024-11-19T19:26:15.440314Z"
    }
   },
   "outputs": [],
   "execution_count": 324
  },
  {
   "metadata": {},
   "cell_type": "markdown",
   "source": [
    "---\n",
    "\n",
    "# Bloom Filter\n",
    "\n",
    "---"
   ]
  },
  {
   "metadata": {},
   "cell_type": "markdown",
   "source": "### Installing and importing required libraries"
  },
  {
   "cell_type": "code",
   "source": "!pip install mmh3",
   "metadata": {
    "id": "KgCQXE8jz2ZA"
   },
   "outputs": [],
   "execution_count": null
  },
  {
   "metadata": {
    "ExecuteTime": {
     "end_time": "2024-11-19T19:26:19.468451Z",
     "start_time": "2024-11-19T19:26:19.466131Z"
    }
   },
   "cell_type": "code",
   "source": [
    "import math\n",
    "import mmh3\n",
    "import random"
   ],
   "outputs": [],
   "execution_count": 325
  },
  {
   "metadata": {},
   "cell_type": "markdown",
   "source": "## Defining helper functions"
  },
  {
   "metadata": {
    "ExecuteTime": {
     "end_time": "2024-11-19T19:33:41.488398Z",
     "start_time": "2024-11-19T19:33:41.481549Z"
    }
   },
   "cell_type": "code",
   "source": [
    "def find_optimal_filter_size(expected_n, expected_fpr):\n",
    "    \"\"\"\n",
    "    Finds the required number of bits in the filter.\n",
    "\n",
    "    Parameters:\n",
    "    expected_n (int): The expected number of elements to store.\n",
    "    expected_fpr (float): The desired false positive rate.\n",
    "\n",
    "    Returns:\n",
    "    int: The optimal filter size in bits.\n",
    "    \"\"\"\n",
    "    return int(-(expected_n * math.log(expected_fpr) / math.log(2)**2))\n",
    "\n",
    "\n",
    "def find_optimal_n_hashes(expected_n, filter_size):\n",
    "    \"\"\"\n",
    "    Finds the optimal number of hash functions.\n",
    "\n",
    "    Parameters:\n",
    "    expected_n (int): The expected number of elements to store.\n",
    "    filter_size (int): The number of bits in the filter.\n",
    "\n",
    "    Returns:\n",
    "    int: The optimal number of hash functions.\n",
    "    \"\"\"\n",
    "    return int(math.log(2) * (filter_size / expected_n))\n",
    "\n",
    "\n",
    "def randomHash(expected_n, expected_fpr):\n",
    "    \"\"\"Generates a random hash function\"\"\"\n",
    "    filter_size = find_optimal_filter_size(expected_n, expected_fpr)\n",
    "    a, b = random.randint(1, filter_size - 1), random.randint(1, filter_size - 1)\n",
    "    def f(x):\n",
    "        return mmh3.hash(x, seed=42) % (a + b) % filter_size\n",
    "    return f\n",
    "\n",
    "\n",
    "def train_bloom_filter(expected_n, expected_fpr, bots_blacklist):\n",
    "    \"\"\"Creating bit-array of the bloom filter based on the bots to be blacklisted\"\"\"\n",
    "    filter_size =  find_optimal_filter_size(expected_n, expected_fpr)\n",
    "    num_hashes = find_optimal_n_hashes(expected_n, filter_size)\n",
    "    \n",
    "    bitarray = [0] * filter_size # define the bit array of desired length\n",
    "    \n",
    "    # generate optimal amount of random hash functions\n",
    "    hashes = [randomHash(expected_n, expected_fpr) for _ in range(num_hashes)] \n",
    "    \n",
    "    # Loop over all bots in the blacklist and add them to the bloom filter\n",
    "    for bot in bots_blacklist:\n",
    "        for i in range(0,num_hashes):\n",
    "            k = hashes[i](bot)\n",
    "            bitarray[k] = 1\n",
    "\n",
    "    return bitarray, hashes"
   ],
   "outputs": [],
   "execution_count": 338
  },
  {
   "metadata": {},
   "cell_type": "markdown",
   "source": "### Checking overlap of predicted bots"
  },
  {
   "metadata": {
    "ExecuteTime": {
     "end_time": "2024-11-19T19:33:42.580614Z",
     "start_time": "2024-11-19T19:33:42.576609Z"
    }
   },
   "cell_type": "code",
   "source": [
    "predicted_bots = best_preds_pd_df[best_preds_pd_df[\"prediction\"] == True][\"user\"].unique()\n",
    "real_bots = best_preds_pd_df[best_preds_pd_df[\"bot\"] == True][\"user\"].unique()\n",
    "print(\"Predicted bots count:\", len(predicted_bots))\n",
    "print(\"Real bots count:\", len(real_bots))\n",
    "print(\"Shared bots count:\", len(set(predicted_bots) & set(real_bots)))"
   ],
   "outputs": [
    {
     "name": "stdout",
     "output_type": "stream",
     "text": [
      "Predicted bots count: 13\n",
      "Real bots count: 13\n",
      "Shared bots count: 11\n"
     ]
    }
   ],
   "execution_count": 339
  },
  {
   "metadata": {},
   "cell_type": "markdown",
   "source": "### Training bloom filter"
  },
  {
   "metadata": {
    "ExecuteTime": {
     "end_time": "2024-11-19T19:33:43.156265Z",
     "start_time": "2024-11-19T19:33:43.148191Z"
    }
   },
   "cell_type": "code",
   "source": [
    "bitarray, hashes = train_bloom_filter(expected_n=len(predicted_bots), expected_fpr=0.1, bots_blacklist=predicted_bots)\n",
    "print(\"Filter size:\", len(bitarray))\n",
    "print(\"Number of hash functions:\", len(hashes))"
   ],
   "outputs": [
    {
     "name": "stdout",
     "output_type": "stream",
     "text": [
      "Filter size: 62\n",
      "Number of hash functions: 3\n"
     ]
    }
   ],
   "execution_count": 340
  },
  {
   "metadata": {
    "ExecuteTime": {
     "end_time": "2024-11-19T19:33:44.734626Z",
     "start_time": "2024-11-19T19:33:44.729781Z"
    }
   },
   "cell_type": "code",
   "source": [
    "import cloudpickle \n",
    "\n",
    "# Saving filter's bitarray and hash functions\n",
    "with open('bloom_filter.pkl', 'wb') as f:\n",
    "    cloudpickle.dump((bitarray, hashes), f)"
   ],
   "outputs": [],
   "execution_count": 341
  }
 ]
}
